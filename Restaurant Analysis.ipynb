{
 "cells": [
  {
   "cell_type": "markdown",
   "metadata": {},
   "source": [
    "# Restaurant Analysis"
   ]
  },
  {
   "cell_type": "markdown",
   "metadata": {},
   "source": [
    "This data comes from a restaurant in Lemon Grove (near San Diego) over the course of 6 years. General trends and specific holiday effects are already relatively understood by the business owners such as dips in September due to the beginning of school. However, this analysis is important for confirming some suspicions and, more importantly, quantifying their effects.\n",
    "\n"
   ]
  },
  {
   "cell_type": "markdown",
   "metadata": {},
   "source": [
    "## Index"
   ]
  },
  {
   "cell_type": "markdown",
   "metadata": {
    "ExecuteTime": {
     "end_time": "2018-12-17T00:34:06.333279Z",
     "start_time": "2018-12-17T00:34:06.327226Z"
    }
   },
   "source": [
    "[Goals](#Goals)  \n",
    "[Dataset](#Dataset)  \n",
    "[Cleaning](#Cleaning)  \n",
    "[Semi-stationary Analysis](#Semi)  \n",
    "[Time Series Analysis with Prophet](#Prophet)\n"
   ]
  },
  {
   "cell_type": "markdown",
   "metadata": {},
   "source": [
    "## Goals"
   ]
  },
  {
   "cell_type": "markdown",
   "metadata": {},
   "source": [
    "1. Do a time series analysis to find out seasonality trends in the data\n",
    "2. How well can I predict sales?\n",
    "3. Find which holidays/sporting events/important dates we could be missing out on (yearly) by noting outliers or trends.\n",
    "4. How does credit vs cash sales compare over time.\n",
    "5. How does regressive factors like local population (growth, demographic), weather affect sales\n"
   ]
  },
  {
   "cell_type": "markdown",
   "metadata": {},
   "source": [
    "## Dataset"
   ]
  },
  {
   "cell_type": "markdown",
   "metadata": {},
   "source": [
    "#### N = 2097 days\n",
    "\n",
    "Date: starts January 1, 2011 to December 31, 2016\n",
    "\n",
    "Cash: money spent using cash \n",
    "\n",
    "Credit: money spent using card \n",
    "\n",
    "Weather: Precipitation in San Diego scraped from NOAA\n"
   ]
  },
  {
   "cell_type": "markdown",
   "metadata": {},
   "source": [
    "## Cleaning"
   ]
  },
  {
   "cell_type": "code",
   "execution_count": 1,
   "metadata": {
    "ExecuteTime": {
     "end_time": "2019-01-12T00:31:12.194674Z",
     "start_time": "2019-01-12T00:31:11.121455Z"
    },
    "scrolled": true
   },
   "outputs": [
    {
     "data": {
      "text/html": [
       "<div>\n",
       "<style scoped>\n",
       "    .dataframe tbody tr th:only-of-type {\n",
       "        vertical-align: middle;\n",
       "    }\n",
       "\n",
       "    .dataframe tbody tr th {\n",
       "        vertical-align: top;\n",
       "    }\n",
       "\n",
       "    .dataframe thead th {\n",
       "        text-align: right;\n",
       "    }\n",
       "</style>\n",
       "<table border=\"1\" class=\"dataframe\">\n",
       "  <thead>\n",
       "    <tr style=\"text-align: right;\">\n",
       "      <th></th>\n",
       "      <th>Date</th>\n",
       "      <th>Cash</th>\n",
       "      <th>Credit</th>\n",
       "      <th>Total</th>\n",
       "      <th>Date.1</th>\n",
       "      <th>Checker</th>\n",
       "      <th>Actual_total</th>\n",
       "    </tr>\n",
       "  </thead>\n",
       "  <tbody>\n",
       "    <tr>\n",
       "      <th>0</th>\n",
       "      <td>01/01/11</td>\n",
       "      <td>2589.00</td>\n",
       "      <td>1530.95</td>\n",
       "      <td>4119.95</td>\n",
       "      <td>Saturday</td>\n",
       "      <td>TRUE</td>\n",
       "      <td>4119.95</td>\n",
       "    </tr>\n",
       "    <tr>\n",
       "      <th>1</th>\n",
       "      <td>01/02/11</td>\n",
       "      <td>4775.00</td>\n",
       "      <td>3179.69</td>\n",
       "      <td>7954.69</td>\n",
       "      <td>Sunday</td>\n",
       "      <td>TRUE</td>\n",
       "      <td>7954.69</td>\n",
       "    </tr>\n",
       "    <tr>\n",
       "      <th>2</th>\n",
       "      <td>01/03/11</td>\n",
       "      <td>2498.00</td>\n",
       "      <td>913.37</td>\n",
       "      <td>3411.37</td>\n",
       "      <td>Monday</td>\n",
       "      <td>TRUE</td>\n",
       "      <td>3411.37</td>\n",
       "    </tr>\n",
       "    <tr>\n",
       "      <th>3</th>\n",
       "      <td>01/04/11</td>\n",
       "      <td>2510.45</td>\n",
       "      <td>958.43</td>\n",
       "      <td>3468.88</td>\n",
       "      <td>Tuesday</td>\n",
       "      <td>TRUE</td>\n",
       "      <td>3468.88</td>\n",
       "    </tr>\n",
       "    <tr>\n",
       "      <th>4</th>\n",
       "      <td>01/05/11</td>\n",
       "      <td>1912.00</td>\n",
       "      <td>511.9</td>\n",
       "      <td>2423.9</td>\n",
       "      <td>Wednesday</td>\n",
       "      <td>TRUE</td>\n",
       "      <td>2423.90</td>\n",
       "    </tr>\n",
       "  </tbody>\n",
       "</table>\n",
       "</div>"
      ],
      "text/plain": [
       "       Date     Cash   Credit    Total     Date.1 Checker  Actual_total\n",
       "0  01/01/11  2589.00  1530.95  4119.95   Saturday    TRUE       4119.95\n",
       "1  01/02/11  4775.00  3179.69  7954.69     Sunday    TRUE       7954.69\n",
       "2  01/03/11  2498.00   913.37  3411.37     Monday    TRUE       3411.37\n",
       "3  01/04/11  2510.45   958.43  3468.88    Tuesday    TRUE       3468.88\n",
       "4  01/05/11  1912.00    511.9   2423.9  Wednesday    TRUE       2423.90"
      ]
     },
     "execution_count": 1,
     "metadata": {},
     "output_type": "execute_result"
    }
   ],
   "source": [
    "import numpy as np\n",
    "import pandas as pd\n",
    "import matplotlib.pyplot as plt\n",
    "import seaborn as sns\n",
    "import sys \n",
    "sys.path.extend(['/anaconda3/envs/tensorflow/lib/python35.zip', '/anaconda3/envs/tensorflow/lib/python3.5', '/anaconda3/envs/tensorflow/lib/python3.5/plat-darwin', '/anaconda3/envs/tensorflow/lib/python3.5/lib-dynload', '/anaconda3/envs/tensorflow/lib/python3.5/site-packages','/anaconda3/lib/python3.7/site-packages'])\n",
    "\n",
    "sales = pd.read_csv(\"RestaurantNumbers.csv\")\n",
    "sales.head(5)"
   ]
  },
  {
   "cell_type": "markdown",
   "metadata": {},
   "source": [
    "Checker was done by Nick Lin to make sure the values input were written correctly and as such is no longer needed"
   ]
  },
  {
   "cell_type": "code",
   "execution_count": 2,
   "metadata": {
    "ExecuteTime": {
     "end_time": "2019-01-12T00:31:14.311450Z",
     "start_time": "2019-01-12T00:31:14.294557Z"
    },
    "scrolled": false
   },
   "outputs": [
    {
     "data": {
      "text/html": [
       "<div>\n",
       "<style scoped>\n",
       "    .dataframe tbody tr th:only-of-type {\n",
       "        vertical-align: middle;\n",
       "    }\n",
       "\n",
       "    .dataframe tbody tr th {\n",
       "        vertical-align: top;\n",
       "    }\n",
       "\n",
       "    .dataframe thead th {\n",
       "        text-align: right;\n",
       "    }\n",
       "</style>\n",
       "<table border=\"1\" class=\"dataframe\">\n",
       "  <thead>\n",
       "    <tr style=\"text-align: right;\">\n",
       "      <th></th>\n",
       "      <th>Date</th>\n",
       "      <th>Cash</th>\n",
       "      <th>Credit</th>\n",
       "      <th>Total</th>\n",
       "      <th>Date.1</th>\n",
       "      <th>Actual_total</th>\n",
       "    </tr>\n",
       "  </thead>\n",
       "  <tbody>\n",
       "    <tr>\n",
       "      <th>2552</th>\n",
       "      <td>12/27/17</td>\n",
       "      <td>NaN</td>\n",
       "      <td>Wednesday</td>\n",
       "      <td>TRUE</td>\n",
       "      <td>0</td>\n",
       "      <td>NaN</td>\n",
       "    </tr>\n",
       "    <tr>\n",
       "      <th>2553</th>\n",
       "      <td>12/28/17</td>\n",
       "      <td>NaN</td>\n",
       "      <td>Thursday</td>\n",
       "      <td>TRUE</td>\n",
       "      <td>0</td>\n",
       "      <td>NaN</td>\n",
       "    </tr>\n",
       "    <tr>\n",
       "      <th>2554</th>\n",
       "      <td>12/29/17</td>\n",
       "      <td>NaN</td>\n",
       "      <td>Friday</td>\n",
       "      <td>TRUE</td>\n",
       "      <td>0</td>\n",
       "      <td>NaN</td>\n",
       "    </tr>\n",
       "    <tr>\n",
       "      <th>2555</th>\n",
       "      <td>12/30/17</td>\n",
       "      <td>NaN</td>\n",
       "      <td>Saturday</td>\n",
       "      <td>TRUE</td>\n",
       "      <td>0</td>\n",
       "      <td>NaN</td>\n",
       "    </tr>\n",
       "    <tr>\n",
       "      <th>2556</th>\n",
       "      <td>12/31/17</td>\n",
       "      <td>NaN</td>\n",
       "      <td>Sunday</td>\n",
       "      <td>TRUE</td>\n",
       "      <td>0</td>\n",
       "      <td>NaN</td>\n",
       "    </tr>\n",
       "  </tbody>\n",
       "</table>\n",
       "</div>"
      ],
      "text/plain": [
       "          Date  Cash     Credit Total Date.1  Actual_total\n",
       "2552  12/27/17   NaN  Wednesday  TRUE      0           NaN\n",
       "2553  12/28/17   NaN   Thursday  TRUE      0           NaN\n",
       "2554  12/29/17   NaN     Friday  TRUE      0           NaN\n",
       "2555  12/30/17   NaN   Saturday  TRUE      0           NaN\n",
       "2556  12/31/17   NaN     Sunday  TRUE      0           NaN"
      ]
     },
     "execution_count": 2,
     "metadata": {},
     "output_type": "execute_result"
    }
   ],
   "source": [
    "sales = sales.drop(\"Checker\", axis = 1)\n",
    "sales.tail(5)"
   ]
  },
  {
   "cell_type": "markdown",
   "metadata": {},
   "source": [
    "The last year (2017) isn't filled in yet. Gonna drop those rows first"
   ]
  },
  {
   "cell_type": "code",
   "execution_count": 3,
   "metadata": {
    "ExecuteTime": {
     "end_time": "2019-01-12T00:31:17.083717Z",
     "start_time": "2019-01-12T00:31:17.070662Z"
    },
    "scrolled": false
   },
   "outputs": [
    {
     "data": {
      "text/html": [
       "<div>\n",
       "<style scoped>\n",
       "    .dataframe tbody tr th:only-of-type {\n",
       "        vertical-align: middle;\n",
       "    }\n",
       "\n",
       "    .dataframe tbody tr th {\n",
       "        vertical-align: top;\n",
       "    }\n",
       "\n",
       "    .dataframe thead th {\n",
       "        text-align: right;\n",
       "    }\n",
       "</style>\n",
       "<table border=\"1\" class=\"dataframe\">\n",
       "  <thead>\n",
       "    <tr style=\"text-align: right;\">\n",
       "      <th></th>\n",
       "      <th>Date</th>\n",
       "      <th>Cash</th>\n",
       "      <th>Credit</th>\n",
       "      <th>Total</th>\n",
       "      <th>Date.1</th>\n",
       "      <th>Actual_total</th>\n",
       "    </tr>\n",
       "  </thead>\n",
       "  <tbody>\n",
       "    <tr>\n",
       "      <th>2187</th>\n",
       "      <td>12/27/16</td>\n",
       "      <td>3487.0</td>\n",
       "      <td>2066.29</td>\n",
       "      <td>5553.29</td>\n",
       "      <td>Tuesday</td>\n",
       "      <td>5553.29</td>\n",
       "    </tr>\n",
       "    <tr>\n",
       "      <th>2188</th>\n",
       "      <td>12/28/16</td>\n",
       "      <td>4041.0</td>\n",
       "      <td>2563.82</td>\n",
       "      <td>6604.82</td>\n",
       "      <td>Wednesday</td>\n",
       "      <td>6604.82</td>\n",
       "    </tr>\n",
       "    <tr>\n",
       "      <th>2189</th>\n",
       "      <td>12/29/16</td>\n",
       "      <td>3885.0</td>\n",
       "      <td>2928.19</td>\n",
       "      <td>6813.19</td>\n",
       "      <td>Thursday</td>\n",
       "      <td>6813.19</td>\n",
       "    </tr>\n",
       "    <tr>\n",
       "      <th>2190</th>\n",
       "      <td>12/30/16</td>\n",
       "      <td>2808.0</td>\n",
       "      <td>2769.16</td>\n",
       "      <td>5577.16</td>\n",
       "      <td>Friday</td>\n",
       "      <td>5577.16</td>\n",
       "    </tr>\n",
       "    <tr>\n",
       "      <th>2191</th>\n",
       "      <td>12/31/16</td>\n",
       "      <td>1857.0</td>\n",
       "      <td>2779.06</td>\n",
       "      <td>4636.06</td>\n",
       "      <td>Saturday</td>\n",
       "      <td>4636.06</td>\n",
       "    </tr>\n",
       "  </tbody>\n",
       "</table>\n",
       "</div>"
      ],
      "text/plain": [
       "          Date    Cash   Credit    Total     Date.1  Actual_total\n",
       "2187  12/27/16  3487.0  2066.29  5553.29    Tuesday       5553.29\n",
       "2188  12/28/16  4041.0  2563.82  6604.82  Wednesday       6604.82\n",
       "2189  12/29/16  3885.0  2928.19  6813.19   Thursday       6813.19\n",
       "2190  12/30/16  2808.0  2769.16  5577.16     Friday       5577.16\n",
       "2191  12/31/16  1857.0  2779.06  4636.06   Saturday       4636.06"
      ]
     },
     "execution_count": 3,
     "metadata": {},
     "output_type": "execute_result"
    }
   ],
   "source": [
    "sales = sales.loc[:2191]#all row up to last day of 2016s\n",
    "sales.tail(5)"
   ]
  },
  {
   "cell_type": "markdown",
   "metadata": {},
   "source": [
    "Checking for any missing data that might still be in the set"
   ]
  },
  {
   "cell_type": "code",
   "execution_count": 4,
   "metadata": {
    "ExecuteTime": {
     "end_time": "2019-01-12T00:31:19.249282Z",
     "start_time": "2019-01-12T00:31:19.237086Z"
    },
    "scrolled": true
   },
   "outputs": [
    {
     "data": {
      "text/plain": [
       "Date             0\n",
       "Cash            98\n",
       "Credit           0\n",
       "Total            0\n",
       "Date.1           0\n",
       "Actual_total    98\n",
       "dtype: int64"
      ]
     },
     "execution_count": 4,
     "metadata": {},
     "output_type": "execute_result"
    }
   ],
   "source": [
    "sales.isnull().sum()"
   ]
  },
  {
   "cell_type": "markdown",
   "metadata": {},
   "source": [
    "Where are those 98 missing data points?"
   ]
  },
  {
   "cell_type": "code",
   "execution_count": 5,
   "metadata": {
    "ExecuteTime": {
     "end_time": "2019-01-12T00:31:23.218733Z",
     "start_time": "2019-01-12T00:31:23.031058Z"
    },
    "scrolled": false
   },
   "outputs": [
    {
     "data": {
      "text/plain": [
       "Text(0, 0.5, 'Total Sales')"
      ]
     },
     "execution_count": 5,
     "metadata": {},
     "output_type": "execute_result"
    },
    {
     "data": {
      "image/png": "[encoded data removed]",
      "text/plain": [
       "<Figure size 432x288 with 1 Axes>"
      ]
     },
     "metadata": {
      "needs_background": "light"
     },
     "output_type": "display_data"
    }
   ],
   "source": [
    "plt.plot(sales.Actual_total)\n",
    "plt.ylabel(\"Total Sales\")"
   ]
  },
  {
   "cell_type": "markdown",
   "metadata": {},
   "source": [
    "There seems to be a sizeable amount of data missing (3 months) in the middle. We're just gonna drop it for EDA. The other option is to interpolate it because we have the amount of credit, just not cash. If credit and cash percent remains steady, we can just estimate what the gap might be"
   ]
  },
  {
   "cell_type": "markdown",
   "metadata": {},
   "source": [
    "#### Credit Card Ratio - Dash example"
   ]
  },
  {
   "cell_type": "code",
   "execution_count": 18,
   "metadata": {
    "ExecuteTime": {
     "end_time": "2019-01-12T00:43:55.706341Z",
     "start_time": "2019-01-12T00:43:55.379169Z"
    },
    "scrolled": false
   },
   "outputs": [
    {
     "data": {
      "text/plain": [
       "Text(0, 0.5, 'Credit percentage total sales')"
      ]
     },
     "execution_count": 18,
     "metadata": {},
     "output_type": "execute_result"
    },
    {
     "data": {
      "image/png": "[encoded data removed]",
      "text/plain": [
       "<Figure size 432x288 with 1 Axes>"
      ]
     },
     "metadata": {
      "needs_background": "light"
     },
     "output_type": "display_data"
    }
   ],
   "source": [
    "sales_dropped = sales.copy()\n",
    "sales_dropped = sales_dropped.dropna(axis = 0, how='any')\n",
    "sales_dropped[\"CreditRatio\"] = sales_dropped[\"Credit\"].astype(float)/(sales_dropped[\"Actual_total\"])\n",
    "plt.plot(sales_dropped[\"CreditRatio\"])\n",
    "\n",
    "plt.ylabel(\"Credit percentage total sales\")"
   ]
  },
  {
   "cell_type": "markdown",
   "metadata": {},
   "source": [
    "There's an upward trend in credit usage but it's not reliable metric for interpolation. Let's see what it looks like on an interactive chart and find out what values are missing"
   ]
  },
  {
   "cell_type": "code",
   "execution_count": 20,
   "metadata": {
    "ExecuteTime": {
     "end_time": "2019-01-12T00:44:24.749170Z",
     "start_time": "2019-01-12T00:44:23.074840Z"
    },
    "scrolled": true
   },
   "outputs": [
    {
     "name": "stdout",
     "output_type": "stream",
     "text": [
      "High five! You successfully sent some data to your account on plotly. View your plot in your browser at https://plot.ly/~magehunter45/0 or inside your plot.ly account where it is named 'multiple-scatter'\n"
     ]
    },
    {
     "name": "stderr",
     "output_type": "stream",
     "text": [
      "/anaconda3/envs/tensorflow/lib/python3.6/site-packages/IPython/core/display.py:689: UserWarning:\n",
      "\n",
      "Consider using IPython.display.IFrame instead\n",
      "\n"
     ]
    },
    {
     "data": {
      "text/html": [
       "<iframe id=\"igraph\" scrolling=\"no\" style=\"border:none;\" seamless=\"seamless\" src=\"https://plot.ly/~magehunter45/0.embed\" height=\"525px\" width=\"100%\"></iframe>"
      ],
      "text/plain": [
       "<plotly.tools.PlotlyDisplay object>"
      ]
     },
     "execution_count": 20,
     "metadata": {},
     "output_type": "execute_result"
    }
   ],
   "source": [
    "import plotly\n",
    "import plotly.plotly as py\n",
    "plotly.tools.set_credentials_file(username='magehunter45', api_key='tD95tNEY6LEpbgyuXKZR')\n",
    "\n",
    "#plt.scatter(x = sales_weekly_avg.index, y = sales_weekly_avg.Actual_total)\n",
    "\n",
    "fig = {\n",
    "    'data': [\n",
    "        {\n",
    "            'x': sales_dropped.Date,\n",
    "            'y': sales_dropped.CreditRatio,\n",
    "            'mode': 'markers',\n",
    "            'marker': {'size': 2}\n",
    "        }\n",
    "    ],\n",
    "    'layout': {\n",
    "        'xaxis': {'title': 'Week of Year'},\n",
    "        'yaxis': {'title': \"Average Total Earnings\"}    \n",
    "    }\n",
    "}\n",
    "py.iplot(fig, filename='multiple-scatter')\n",
    "\n"
   ]
  },
  {
   "cell_type": "markdown",
   "metadata": {},
   "source": [
    "12/31/14 to 04/01/15 is missing. Preceeding to drop values from data set. Also having an issue where there's overlaps for weekly resampling."
   ]
  },
  {
   "cell_type": "markdown",
   "metadata": {},
   "source": [
    "#### Column Indexing"
   ]
  },
  {
   "cell_type": "markdown",
   "metadata": {},
   "source": [
    "Date.1 is a bad index name. I also want to create more columns by splitting into day of year, week of year, month of year, year"
   ]
  },
  {
   "cell_type": "code",
   "execution_count": 7,
   "metadata": {
    "ExecuteTime": {
     "end_time": "2019-01-12T00:31:29.442980Z",
     "start_time": "2019-01-12T00:31:29.435925Z"
    },
    "scrolled": false
   },
   "outputs": [
    {
     "data": {
      "text/plain": [
       "Index(['Date', 'Cash', 'Credit', 'Total', 'WeekDay', 'Actual_total'], dtype='object')"
      ]
     },
     "execution_count": 7,
     "metadata": {},
     "output_type": "execute_result"
    }
   ],
   "source": [
    "sales.columns = ['Date', 'Cash', 'Credit', 'Total', 'WeekDay', 'Actual_total']\n",
    "sales.columns"
   ]
  },
  {
   "cell_type": "markdown",
   "metadata": {},
   "source": [
    "It would probably be more efficient to convert this to a date-time index instead but I'm not being too picky right now"
   ]
  },
  {
   "cell_type": "code",
   "execution_count": 8,
   "metadata": {
    "ExecuteTime": {
     "end_time": "2019-01-12T00:31:32.087740Z",
     "start_time": "2019-01-12T00:31:31.192027Z"
    }
   },
   "outputs": [],
   "source": [
    "sales['Year'] = pd.DatetimeIndex(sales['Date']).year\n",
    "sales['Month'] = pd.DatetimeIndex(sales['Date']).month\n",
    "sales['Week'] = pd.DatetimeIndex(sales['Date']).week\n",
    "sales['Day'] = pd.DatetimeIndex(sales['Date']).day\n",
    "\n",
    "#sales['Year'], sales['Week'], sales['Month'], sales['Day']"
   ]
  },
  {
   "cell_type": "code",
   "execution_count": 9,
   "metadata": {
    "ExecuteTime": {
     "end_time": "2019-01-12T00:31:33.144375Z",
     "start_time": "2019-01-12T00:31:33.125489Z"
    }
   },
   "outputs": [
    {
     "data": {
      "text/html": [
       "<div>\n",
       "<style scoped>\n",
       "    .dataframe tbody tr th:only-of-type {\n",
       "        vertical-align: middle;\n",
       "    }\n",
       "\n",
       "    .dataframe tbody tr th {\n",
       "        vertical-align: top;\n",
       "    }\n",
       "\n",
       "    .dataframe thead th {\n",
       "        text-align: right;\n",
       "    }\n",
       "</style>\n",
       "<table border=\"1\" class=\"dataframe\">\n",
       "  <thead>\n",
       "    <tr style=\"text-align: right;\">\n",
       "      <th></th>\n",
       "      <th>Date</th>\n",
       "      <th>Cash</th>\n",
       "      <th>Credit</th>\n",
       "      <th>Total</th>\n",
       "      <th>WeekDay</th>\n",
       "      <th>Actual_total</th>\n",
       "      <th>Year</th>\n",
       "      <th>Month</th>\n",
       "      <th>Week</th>\n",
       "      <th>Day</th>\n",
       "    </tr>\n",
       "  </thead>\n",
       "  <tbody>\n",
       "    <tr>\n",
       "      <th>366</th>\n",
       "      <td>01/02/12</td>\n",
       "      <td>2250.0</td>\n",
       "      <td>1229.74</td>\n",
       "      <td>3479.74</td>\n",
       "      <td>Monday</td>\n",
       "      <td>3479.74</td>\n",
       "      <td>2012</td>\n",
       "      <td>1</td>\n",
       "      <td>1</td>\n",
       "      <td>2</td>\n",
       "    </tr>\n",
       "    <tr>\n",
       "      <th>367</th>\n",
       "      <td>01/03/12</td>\n",
       "      <td>2697.0</td>\n",
       "      <td>925.54</td>\n",
       "      <td>3622.54</td>\n",
       "      <td>Tuesday</td>\n",
       "      <td>3622.54</td>\n",
       "      <td>2012</td>\n",
       "      <td>1</td>\n",
       "      <td>1</td>\n",
       "      <td>3</td>\n",
       "    </tr>\n",
       "    <tr>\n",
       "      <th>368</th>\n",
       "      <td>01/04/12</td>\n",
       "      <td>2224.0</td>\n",
       "      <td>1097.7</td>\n",
       "      <td>3321.7</td>\n",
       "      <td>Wednesday</td>\n",
       "      <td>3321.70</td>\n",
       "      <td>2012</td>\n",
       "      <td>1</td>\n",
       "      <td>1</td>\n",
       "      <td>4</td>\n",
       "    </tr>\n",
       "    <tr>\n",
       "      <th>369</th>\n",
       "      <td>01/05/12</td>\n",
       "      <td>2387.0</td>\n",
       "      <td>686.05</td>\n",
       "      <td>3073.05</td>\n",
       "      <td>Thursday</td>\n",
       "      <td>3073.05</td>\n",
       "      <td>2012</td>\n",
       "      <td>1</td>\n",
       "      <td>1</td>\n",
       "      <td>5</td>\n",
       "    </tr>\n",
       "    <tr>\n",
       "      <th>370</th>\n",
       "      <td>01/06/12</td>\n",
       "      <td>2353.0</td>\n",
       "      <td>1452.58</td>\n",
       "      <td>3805.58</td>\n",
       "      <td>Friday</td>\n",
       "      <td>3805.58</td>\n",
       "      <td>2012</td>\n",
       "      <td>1</td>\n",
       "      <td>1</td>\n",
       "      <td>6</td>\n",
       "    </tr>\n",
       "    <tr>\n",
       "      <th>371</th>\n",
       "      <td>01/07/12</td>\n",
       "      <td>4050.0</td>\n",
       "      <td>2031.53</td>\n",
       "      <td>6081.53</td>\n",
       "      <td>Saturday</td>\n",
       "      <td>6081.53</td>\n",
       "      <td>2012</td>\n",
       "      <td>1</td>\n",
       "      <td>1</td>\n",
       "      <td>7</td>\n",
       "    </tr>\n",
       "    <tr>\n",
       "      <th>372</th>\n",
       "      <td>01/08/12</td>\n",
       "      <td>4961.0</td>\n",
       "      <td>2629.78</td>\n",
       "      <td>7590.78</td>\n",
       "      <td>Sunday</td>\n",
       "      <td>7590.78</td>\n",
       "      <td>2012</td>\n",
       "      <td>1</td>\n",
       "      <td>1</td>\n",
       "      <td>8</td>\n",
       "    </tr>\n",
       "    <tr>\n",
       "      <th>730</th>\n",
       "      <td>12/31/12</td>\n",
       "      <td>1197.0</td>\n",
       "      <td>1241.59</td>\n",
       "      <td>2438.59</td>\n",
       "      <td>Monday</td>\n",
       "      <td>2438.59</td>\n",
       "      <td>2012</td>\n",
       "      <td>12</td>\n",
       "      <td>1</td>\n",
       "      <td>31</td>\n",
       "    </tr>\n",
       "  </tbody>\n",
       "</table>\n",
       "</div>"
      ],
      "text/plain": [
       "         Date    Cash   Credit    Total    WeekDay  Actual_total  Year  Month  \\\n",
       "366  01/02/12  2250.0  1229.74  3479.74     Monday       3479.74  2012      1   \n",
       "367  01/03/12  2697.0   925.54  3622.54    Tuesday       3622.54  2012      1   \n",
       "368  01/04/12  2224.0   1097.7   3321.7  Wednesday       3321.70  2012      1   \n",
       "369  01/05/12  2387.0   686.05  3073.05   Thursday       3073.05  2012      1   \n",
       "370  01/06/12  2353.0  1452.58  3805.58     Friday       3805.58  2012      1   \n",
       "371  01/07/12  4050.0  2031.53  6081.53   Saturday       6081.53  2012      1   \n",
       "372  01/08/12  4961.0  2629.78  7590.78     Sunday       7590.78  2012      1   \n",
       "730  12/31/12  1197.0  1241.59  2438.59     Monday       2438.59  2012     12   \n",
       "\n",
       "     Week  Day  \n",
       "366     1    2  \n",
       "367     1    3  \n",
       "368     1    4  \n",
       "369     1    5  \n",
       "370     1    6  \n",
       "371     1    7  \n",
       "372     1    8  \n",
       "730     1   31  "
      ]
     },
     "execution_count": 9,
     "metadata": {},
     "output_type": "execute_result"
    }
   ],
   "source": [
    "hum = sales[sales.Year == 2012]\n",
    "hum = hum[hum.Week == 1]\n",
    "hum"
   ]
  },
  {
   "cell_type": "markdown",
   "metadata": {},
   "source": [
    "Index for week is a bit off notice that the last day of the year is somehow week one. I'm gonna play a bit with the data first, but it is by no means the best at aggregating data or trends"
   ]
  },
  {
   "cell_type": "markdown",
   "metadata": {
    "ExecuteTime": {
     "end_time": "2019-01-12T00:23:34.837133Z",
     "start_time": "2019-01-12T00:23:34.831596Z"
    }
   },
   "source": [
    "<a id=\"Semi\"></a>"
   ]
  },
  {
   "cell_type": "markdown",
   "metadata": {},
   "source": [
    "## Semi-stationary Analysis  "
   ]
  },
  {
   "cell_type": "markdown",
   "metadata": {},
   "source": [
    "This is a quick look into the data assuming there is no trend. This is mostly to practice a bit of pandas manipulation and confirm data in the time series analysis"
   ]
  },
  {
   "cell_type": "code",
   "execution_count": 10,
   "metadata": {
    "ExecuteTime": {
     "end_time": "2019-01-12T00:31:35.827420Z",
     "start_time": "2019-01-12T00:31:35.793283Z"
    },
    "scrolled": false
   },
   "outputs": [
    {
     "data": {
      "text/html": [
       "<div>\n",
       "<style scoped>\n",
       "    .dataframe tbody tr th:only-of-type {\n",
       "        vertical-align: middle;\n",
       "    }\n",
       "\n",
       "    .dataframe tbody tr th {\n",
       "        vertical-align: top;\n",
       "    }\n",
       "\n",
       "    .dataframe thead th {\n",
       "        text-align: right;\n",
       "    }\n",
       "</style>\n",
       "<table border=\"1\" class=\"dataframe\">\n",
       "  <thead>\n",
       "    <tr style=\"text-align: right;\">\n",
       "      <th></th>\n",
       "      <th>Cash</th>\n",
       "      <th>Actual_total</th>\n",
       "      <th>Year</th>\n",
       "      <th>Month</th>\n",
       "      <th>Week</th>\n",
       "      <th>Day</th>\n",
       "    </tr>\n",
       "  </thead>\n",
       "  <tbody>\n",
       "    <tr>\n",
       "      <th>count</th>\n",
       "      <td>2094.000000</td>\n",
       "      <td>2094.000000</td>\n",
       "      <td>2192.000000</td>\n",
       "      <td>2192.000000</td>\n",
       "      <td>2192.000000</td>\n",
       "      <td>2192.000000</td>\n",
       "    </tr>\n",
       "    <tr>\n",
       "      <th>mean</th>\n",
       "      <td>3303.672679</td>\n",
       "      <td>5180.061461</td>\n",
       "      <td>2013.500456</td>\n",
       "      <td>6.521898</td>\n",
       "      <td>26.596259</td>\n",
       "      <td>15.732664</td>\n",
       "    </tr>\n",
       "    <tr>\n",
       "      <th>std</th>\n",
       "      <td>1540.653272</td>\n",
       "      <td>2647.696951</td>\n",
       "      <td>1.708571</td>\n",
       "      <td>3.449773</td>\n",
       "      <td>15.068559</td>\n",
       "      <td>8.803378</td>\n",
       "    </tr>\n",
       "    <tr>\n",
       "      <th>min</th>\n",
       "      <td>854.000000</td>\n",
       "      <td>1334.570000</td>\n",
       "      <td>2011.000000</td>\n",
       "      <td>1.000000</td>\n",
       "      <td>1.000000</td>\n",
       "      <td>1.000000</td>\n",
       "    </tr>\n",
       "    <tr>\n",
       "      <th>25%</th>\n",
       "      <td>2224.000000</td>\n",
       "      <td>3242.940000</td>\n",
       "      <td>2012.000000</td>\n",
       "      <td>4.000000</td>\n",
       "      <td>14.000000</td>\n",
       "      <td>8.000000</td>\n",
       "    </tr>\n",
       "    <tr>\n",
       "      <th>50%</th>\n",
       "      <td>2811.000000</td>\n",
       "      <td>4365.835000</td>\n",
       "      <td>2013.500000</td>\n",
       "      <td>7.000000</td>\n",
       "      <td>27.000000</td>\n",
       "      <td>16.000000</td>\n",
       "    </tr>\n",
       "    <tr>\n",
       "      <th>75%</th>\n",
       "      <td>3793.500000</td>\n",
       "      <td>6150.612500</td>\n",
       "      <td>2015.000000</td>\n",
       "      <td>10.000000</td>\n",
       "      <td>40.000000</td>\n",
       "      <td>23.000000</td>\n",
       "    </tr>\n",
       "    <tr>\n",
       "      <th>max</th>\n",
       "      <td>9997.000000</td>\n",
       "      <td>18472.490000</td>\n",
       "      <td>2016.000000</td>\n",
       "      <td>12.000000</td>\n",
       "      <td>53.000000</td>\n",
       "      <td>31.000000</td>\n",
       "    </tr>\n",
       "  </tbody>\n",
       "</table>\n",
       "</div>"
      ],
      "text/plain": [
       "              Cash  Actual_total         Year        Month         Week  \\\n",
       "count  2094.000000   2094.000000  2192.000000  2192.000000  2192.000000   \n",
       "mean   3303.672679   5180.061461  2013.500456     6.521898    26.596259   \n",
       "std    1540.653272   2647.696951     1.708571     3.449773    15.068559   \n",
       "min     854.000000   1334.570000  2011.000000     1.000000     1.000000   \n",
       "25%    2224.000000   3242.940000  2012.000000     4.000000    14.000000   \n",
       "50%    2811.000000   4365.835000  2013.500000     7.000000    27.000000   \n",
       "75%    3793.500000   6150.612500  2015.000000    10.000000    40.000000   \n",
       "max    9997.000000  18472.490000  2016.000000    12.000000    53.000000   \n",
       "\n",
       "               Day  \n",
       "count  2192.000000  \n",
       "mean     15.732664  \n",
       "std       8.803378  \n",
       "min       1.000000  \n",
       "25%       8.000000  \n",
       "50%      16.000000  \n",
       "75%      23.000000  \n",
       "max      31.000000  "
      ]
     },
     "execution_count": 10,
     "metadata": {},
     "output_type": "execute_result"
    }
   ],
   "source": [
    "#let's look at the data\n",
    "sales.describe()"
   ]
  },
  {
   "cell_type": "markdown",
   "metadata": {},
   "source": [
    "#### All data plotted"
   ]
  },
  {
   "cell_type": "code",
   "execution_count": 11,
   "metadata": {
    "ExecuteTime": {
     "end_time": "2019-01-12T00:31:44.336582Z",
     "start_time": "2019-01-12T00:31:38.183465Z"
    },
    "scrolled": true
   },
   "outputs": [
    {
     "data": {
      "image/png": "[encoded data removed]",
      "text/plain": [
       "<Figure size 1728x1296 with 6 Axes>"
      ]
     },
     "metadata": {
      "needs_background": "light"
     },
     "output_type": "display_data"
    }
   ],
   "source": [
    "##FACET GRID\n",
    "g = sns.FacetGrid(sales, row = \"Year\", aspect=8)\n",
    "xticks= np.arange(1, 360, 12)\n",
    "g = g.map_dataframe(plt.scatter, \"Date\",\"Actual_total\").set(xticks= xticks)\n",
    "\n",
    "#adding title to facet grid\n",
    "plt.subplots_adjust(top=.8)"
   ]
  },
  {
   "cell_type": "markdown",
   "metadata": {},
   "source": [
    "We can see some peaks at certain points in the data. Also note the missing 3 months from 12/31/14 to 04/01/15 "
   ]
  },
  {
   "cell_type": "markdown",
   "metadata": {},
   "source": [
    "#### Weekly Seasonality of the year - because the view of each day is overwhelming. Plotly Example."
   ]
  },
  {
   "cell_type": "markdown",
   "metadata": {},
   "source": [
    "This chart is also going to be interactive so it's easier to view"
   ]
  },
  {
   "cell_type": "code",
   "execution_count": 12,
   "metadata": {
    "ExecuteTime": {
     "end_time": "2019-01-12T00:31:44.548154Z",
     "start_time": "2019-01-12T00:31:44.534737Z"
    }
   },
   "outputs": [],
   "source": [
    "sales_dropped = sales.copy().dropna()\n",
    "sales_weekly_avg = sales_dropped.groupby(\"Week\").agg(\"mean\")"
   ]
  },
  {
   "cell_type": "code",
   "execution_count": 21,
   "metadata": {
    "ExecuteTime": {
     "end_time": "2019-01-12T00:45:22.911215Z",
     "start_time": "2019-01-12T00:45:21.587390Z"
    },
    "scrolled": true
   },
   "outputs": [
    {
     "name": "stderr",
     "output_type": "stream",
     "text": [
      "/anaconda3/envs/tensorflow/lib/python3.6/site-packages/IPython/core/display.py:689: UserWarning:\n",
      "\n",
      "Consider using IPython.display.IFrame instead\n",
      "\n"
     ]
    },
    {
     "data": {
      "text/html": [
       "<iframe id=\"igraph\" scrolling=\"no\" style=\"border:none;\" seamless=\"seamless\" src=\"https://plot.ly/~magehunter45/2.embed\" height=\"525px\" width=\"100%\"></iframe>"
      ],
      "text/plain": [
       "<plotly.tools.PlotlyDisplay object>"
      ]
     },
     "execution_count": 21,
     "metadata": {},
     "output_type": "execute_result"
    }
   ],
   "source": [
    "fig = {\n",
    "    'data': [\n",
    "        {\n",
    "            'x': sales_weekly_avg.index, \n",
    "            'y': sales_weekly_avg.Actual_total, \n",
    "            'text': sales_weekly_avg.index, \n",
    "            'mode': 'markers'}\n",
    "    ],\n",
    "    'layout': {\n",
    "        'xaxis': {'title': 'Week of Year'},\n",
    "        'yaxis': {'title': \"Average Total Earnings\"}    \n",
    "    }\n",
    "}\n",
    "\n",
    "# IPython notebook\n",
    "py.iplot(fig, filename='week-sales')\n",
    "\n",
    "#url = py.plot(fig, filename='pandas/multiple-scatter')"
   ]
  },
  {
   "cell_type": "markdown",
   "metadata": {},
   "source": [
    "What's going on in week 53"
   ]
  },
  {
   "cell_type": "code",
   "execution_count": 20,
   "metadata": {
    "ExecuteTime": {
     "end_time": "2018-12-17T00:35:20.495548Z",
     "start_time": "2018-12-17T00:35:20.467244Z"
    },
    "scrolled": true
   },
   "outputs": [
    {
     "data": {
      "text/html": [
       "<div>\n",
       "<style>\n",
       "    .dataframe thead tr:only-child th {\n",
       "        text-align: right;\n",
       "    }\n",
       "\n",
       "    .dataframe thead th {\n",
       "        text-align: left;\n",
       "    }\n",
       "\n",
       "    .dataframe tbody tr th {\n",
       "        vertical-align: top;\n",
       "    }\n",
       "</style>\n",
       "<table border=\"1\" class=\"dataframe\">\n",
       "  <thead>\n",
       "    <tr style=\"text-align: right;\">\n",
       "      <th></th>\n",
       "      <th>Date</th>\n",
       "      <th>Cash</th>\n",
       "      <th>Credit</th>\n",
       "      <th>Total</th>\n",
       "      <th>WeekDay</th>\n",
       "      <th>Actual_total</th>\n",
       "      <th>Year</th>\n",
       "      <th>Month</th>\n",
       "      <th>Week</th>\n",
       "      <th>Day</th>\n",
       "    </tr>\n",
       "  </thead>\n",
       "  <tbody>\n",
       "    <tr>\n",
       "      <th>1822</th>\n",
       "      <td>12/28/15</td>\n",
       "      <td>3042.0</td>\n",
       "      <td>2048.52</td>\n",
       "      <td>5090.52</td>\n",
       "      <td>Monday</td>\n",
       "      <td>5090.52</td>\n",
       "      <td>2015</td>\n",
       "      <td>12</td>\n",
       "      <td>53</td>\n",
       "      <td>28</td>\n",
       "    </tr>\n",
       "    <tr>\n",
       "      <th>1823</th>\n",
       "      <td>12/29/15</td>\n",
       "      <td>3705.0</td>\n",
       "      <td>1940.89</td>\n",
       "      <td>5645.89</td>\n",
       "      <td>Tuesday</td>\n",
       "      <td>5645.89</td>\n",
       "      <td>2015</td>\n",
       "      <td>12</td>\n",
       "      <td>53</td>\n",
       "      <td>29</td>\n",
       "    </tr>\n",
       "    <tr>\n",
       "      <th>1824</th>\n",
       "      <td>12/30/15</td>\n",
       "      <td>3489.0</td>\n",
       "      <td>2017.33</td>\n",
       "      <td>5506.33</td>\n",
       "      <td>Wednesday</td>\n",
       "      <td>5506.33</td>\n",
       "      <td>2015</td>\n",
       "      <td>12</td>\n",
       "      <td>53</td>\n",
       "      <td>30</td>\n",
       "    </tr>\n",
       "    <tr>\n",
       "      <th>1825</th>\n",
       "      <td>12/31/15</td>\n",
       "      <td>2261.0</td>\n",
       "      <td>1233.1</td>\n",
       "      <td>3494.1</td>\n",
       "      <td>Thursday</td>\n",
       "      <td>3494.10</td>\n",
       "      <td>2015</td>\n",
       "      <td>12</td>\n",
       "      <td>53</td>\n",
       "      <td>31</td>\n",
       "    </tr>\n",
       "    <tr>\n",
       "      <th>1826</th>\n",
       "      <td>01/01/16</td>\n",
       "      <td>3179.0</td>\n",
       "      <td>2531.06</td>\n",
       "      <td>5710.06</td>\n",
       "      <td>Friday</td>\n",
       "      <td>5710.06</td>\n",
       "      <td>2016</td>\n",
       "      <td>1</td>\n",
       "      <td>53</td>\n",
       "      <td>1</td>\n",
       "    </tr>\n",
       "    <tr>\n",
       "      <th>1827</th>\n",
       "      <td>01/02/16</td>\n",
       "      <td>3800.0</td>\n",
       "      <td>3207.17</td>\n",
       "      <td>7007.17</td>\n",
       "      <td>Saturday</td>\n",
       "      <td>7007.17</td>\n",
       "      <td>2016</td>\n",
       "      <td>1</td>\n",
       "      <td>53</td>\n",
       "      <td>2</td>\n",
       "    </tr>\n",
       "    <tr>\n",
       "      <th>1828</th>\n",
       "      <td>01/03/16</td>\n",
       "      <td>7179.0</td>\n",
       "      <td>5491.98</td>\n",
       "      <td>12670.98</td>\n",
       "      <td>Sunday</td>\n",
       "      <td>12670.98</td>\n",
       "      <td>2016</td>\n",
       "      <td>1</td>\n",
       "      <td>53</td>\n",
       "      <td>3</td>\n",
       "    </tr>\n",
       "  </tbody>\n",
       "</table>\n",
       "</div>"
      ],
      "text/plain": [
       "          Date    Cash   Credit     Total    WeekDay  Actual_total  Year  \\\n",
       "1822  12/28/15  3042.0  2048.52   5090.52     Monday       5090.52  2015   \n",
       "1823  12/29/15  3705.0  1940.89   5645.89    Tuesday       5645.89  2015   \n",
       "1824  12/30/15  3489.0  2017.33   5506.33  Wednesday       5506.33  2015   \n",
       "1825  12/31/15  2261.0   1233.1    3494.1   Thursday       3494.10  2015   \n",
       "1826  01/01/16  3179.0  2531.06   5710.06     Friday       5710.06  2016   \n",
       "1827  01/02/16  3800.0  3207.17   7007.17   Saturday       7007.17  2016   \n",
       "1828  01/03/16  7179.0  5491.98  12670.98     Sunday      12670.98  2016   \n",
       "\n",
       "      Month  Week  Day  \n",
       "1822     12    53   28  \n",
       "1823     12    53   29  \n",
       "1824     12    53   30  \n",
       "1825     12    53   31  \n",
       "1826      1    53    1  \n",
       "1827      1    53    2  \n",
       "1828      1    53    3  "
      ]
     },
     "execution_count": 20,
     "metadata": {},
     "output_type": "execute_result"
    }
   ],
   "source": [
    "sales_dropped[sales_dropped.Week == 53]"
   ]
  },
  {
   "cell_type": "markdown",
   "metadata": {},
   "source": [
    "It looks like the sunday after new years was a surprise peak. Also note how bad sales are on new years day. Datetime package must have just jumped the gun, because it only has week 53 for one year.\n",
    "\n",
    "Otherwise, week 7 and week 19 are massively higher than the rest which is easily explainable by Valentine's Day and Mother's day respectively. This will probably make more sense in the Time Series Analysis using prophet\n",
    "\n",
    "But what about the variance of each week? Let's use a boxplot to check"
   ]
  },
  {
   "cell_type": "code",
   "execution_count": 21,
   "metadata": {
    "ExecuteTime": {
     "end_time": "2018-12-17T00:35:21.682925Z",
     "start_time": "2018-12-17T00:35:20.503552Z"
    },
    "scrolled": true
   },
   "outputs": [
    {
     "data": {
      "text/plain": [
       "<matplotlib.axes._subplots.AxesSubplot at 0x1a13e26470>"
      ]
     },
     "execution_count": 21,
     "metadata": {},
     "output_type": "execute_result"
    },
    {
     "data": {
      "image/png": "[encoded data removed]",
      "text/plain": [
       "<matplotlib.figure.Figure at 0x1a14cb1128>"
      ]
     },
     "metadata": {
      "needs_background": "light"
     },
     "output_type": "display_data"
    }
   ],
   "source": [
    "plt.figure(figsize=(20,15))\n",
    "#get average week over years of sales\n",
    "sales_weekly_year_avg = sales_dropped.groupby(['Week', 'Year']).agg(\"mean\").reset_index()\n",
    "sns.boxplot(x = sales_weekly_year_avg.Week, y = sales_weekly_year_avg.Actual_total, data = sales_weekly_year_avg)"
   ]
  },
  {
   "cell_type": "markdown",
   "metadata": {},
   "source": [
    "The entire first 20 weeks seems to have weird outliers. I'm not sure why, but I'm assuming the time series analysis will be useful in teasing the data"
   ]
  },
  {
   "cell_type": "markdown",
   "metadata": {},
   "source": [
    "After discussing with my brother though, it seems like those numbers are correct. 2015 was just a really good year and would have explained the massive boost. The gap between 2014 and 2016 is so large that the boxplot assumed that 2016 was an outlier."
   ]
  },
  {
   "cell_type": "markdown",
   "metadata": {},
   "source": [
    "The medians are all relatively similar and we see how week 53 is awkward because of the lack of data. What we can see from the chart is a lot of variability over the course of 6 years."
   ]
  },
  {
   "cell_type": "markdown",
   "metadata": {},
   "source": [
    "#### Monthly seasonality of the year - broader trends"
   ]
  },
  {
   "cell_type": "code",
   "execution_count": 22,
   "metadata": {
    "ExecuteTime": {
     "end_time": "2018-12-17T00:35:21.944807Z",
     "start_time": "2018-12-17T00:35:21.687573Z"
    },
    "scrolled": true
   },
   "outputs": [
    {
     "data": {
      "text/plain": [
       "<matplotlib.axes._subplots.AxesSubplot at 0x1a157d84e0>"
      ]
     },
     "execution_count": 22,
     "metadata": {},
     "output_type": "execute_result"
    },
    {
     "data": {
      "image/png": "[encoded data removed]",
      "text/plain": [
       "<matplotlib.figure.Figure at 0x1a157dc470>"
      ]
     },
     "metadata": {
      "needs_background": "light"
     },
     "output_type": "display_data"
    }
   ],
   "source": [
    "sales_month_avg = sales_dropped.groupby(\"Month\").agg(\"mean\")\n",
    "sns.barplot(x = sales_month_avg.index, y = sales_month_avg.Actual_total)"
   ]
  },
  {
   "cell_type": "markdown",
   "metadata": {},
   "source": [
    "Summer months tend to do the best as seen on the chart. September dip follows school starting. Month 1-3 is probably biased because it is missing the higher 2015 data."
   ]
  },
  {
   "cell_type": "markdown",
   "metadata": {},
   "source": [
    "#### Daily seasonality of the week - lets get deeper"
   ]
  },
  {
   "cell_type": "code",
   "execution_count": 23,
   "metadata": {
    "ExecuteTime": {
     "end_time": "2018-12-17T00:35:22.145190Z",
     "start_time": "2018-12-17T00:35:21.948258Z"
    },
    "scrolled": true
   },
   "outputs": [
    {
     "data": {
      "text/plain": [
       "<matplotlib.axes._subplots.AxesSubplot at 0x1a1621f518>"
      ]
     },
     "execution_count": 23,
     "metadata": {},
     "output_type": "execute_result"
    },
    {
     "data": {
      "image/png": "[encoded data removed]",
      "text/plain": [
       "<matplotlib.figure.Figure at 0x1a15793a20>"
      ]
     },
     "metadata": {
      "needs_background": "light"
     },
     "output_type": "display_data"
    }
   ],
   "source": [
    "sales_dayofweek_avg = sales_dropped.groupby(\"WeekDay\").agg(\"mean\")\n",
    "sales_dayofweek_avg = sales_dayofweek_avg.sort_values(\"Actual_total\")\n",
    "sns.barplot(x = sales_dayofweek_avg.index, y = sales_dayofweek_avg.Actual_total)"
   ]
  },
  {
   "cell_type": "markdown",
   "metadata": {},
   "source": [
    "Sundays are extremely important. Not only is it all day dinner price, but it's assumed to be the most important day. The average here is 2.5 any other day during the week"
   ]
  },
  {
   "cell_type": "markdown",
   "metadata": {
    "ExecuteTime": {
     "end_time": "2019-01-12T00:40:10.606920Z",
     "start_time": "2019-01-12T00:40:10.600163Z"
    }
   },
   "source": [
    "<a id=\"Prophet\"></a>"
   ]
  },
  {
   "cell_type": "markdown",
   "metadata": {},
   "source": [
    "## Timeseries Analysis"
   ]
  },
  {
   "cell_type": "markdown",
   "metadata": {},
   "source": [
    "By modeling sales as time series I can begin to decompose the data in order to find true outliers. I'm currently looking to remove the seasonality that can be explained by weekly and monthly changes. I'm keeping holidays in just in case there might be one that we're missing. "
   ]
  },
  {
   "cell_type": "markdown",
   "metadata": {
    "heading_collapsed": true
   },
   "source": [
    "#### Why fbprophet?"
   ]
  },
  {
   "cell_type": "markdown",
   "metadata": {
    "hidden": true
   },
   "source": [
    "Prophet is an open source library by facebook for scaling time series forecasting. Their model is decomposed into trend, seasonality, and custom input holidays to the equation:\n",
    "\n",
    "<i>y(t) = g(t) + s(t) + h(t) + εt.</i>\n",
    "\n",
    "<b> g(t)</b>: piecewise linear or logistic growth curve for modelling non-periodic changes in time series\n",
    "\n",
    "<b> s(t)</b>: periodic changes (e.g. weekly/yearly seasonality)\n",
    "\n",
    "<b> h(t)</b>: effects of holidays (user provided) with irregular schedules\n",
    "\n",
    "<b> ε_t</b>: error term accounts for any unusual changes not accommodated by the model\n",
    "\n",
    "Note how time is the only regressor and that the model is essentially fitting to the curve and then generating values from the fit. This allows for quick model building and parameter tuning."
   ]
  },
  {
   "cell_type": "code",
   "execution_count": 8,
   "metadata": {
    "ExecuteTime": {
     "end_time": "2019-01-06T01:35:05.605240Z",
     "start_time": "2019-01-06T01:35:04.197990Z"
    },
    "hidden": true,
    "scrolled": true
   },
   "outputs": [],
   "source": [
    "import pystan\n",
    "from fbprophet import Prophet"
   ]
  },
  {
   "cell_type": "markdown",
   "metadata": {
    "hidden": true
   },
   "source": [
    "<b>Tuneable Parameters</b>\n",
    "\n",
    "<b>Carrying cap:</b> None, or at least not even close to meeting it. Currently utilizing linear model.\n",
    "\n",
    "<b>Trend Change points:</b> Automatic, and only for the first 80% so doesn't overfit future predictions. Might change sparsity. \n",
    "\n",
    "<b>Holidays:</b> Mother's day, Christmas, Thanksgiving, Valentines"
   ]
  },
  {
   "cell_type": "code",
   "execution_count": 50,
   "metadata": {
    "ExecuteTime": {
     "end_time": "2019-01-09T02:46:20.470697Z",
     "start_time": "2019-01-09T02:46:20.459056Z"
    },
    "hidden": true,
    "scrolled": false
   },
   "outputs": [
    {
     "data": {
      "text/html": [
       "<div>\n",
       "<style scoped>\n",
       "    .dataframe tbody tr th:only-of-type {\n",
       "        vertical-align: middle;\n",
       "    }\n",
       "\n",
       "    .dataframe tbody tr th {\n",
       "        vertical-align: top;\n",
       "    }\n",
       "\n",
       "    .dataframe thead th {\n",
       "        text-align: right;\n",
       "    }\n",
       "</style>\n",
       "<table border=\"1\" class=\"dataframe\">\n",
       "  <thead>\n",
       "    <tr style=\"text-align: right;\">\n",
       "      <th></th>\n",
       "      <th>ds</th>\n",
       "      <th>y</th>\n",
       "    </tr>\n",
       "  </thead>\n",
       "  <tbody>\n",
       "    <tr>\n",
       "      <th>0</th>\n",
       "      <td>01/01/11</td>\n",
       "      <td>4119.95</td>\n",
       "    </tr>\n",
       "    <tr>\n",
       "      <th>1</th>\n",
       "      <td>01/02/11</td>\n",
       "      <td>7954.69</td>\n",
       "    </tr>\n",
       "    <tr>\n",
       "      <th>2</th>\n",
       "      <td>01/03/11</td>\n",
       "      <td>3411.37</td>\n",
       "    </tr>\n",
       "    <tr>\n",
       "      <th>3</th>\n",
       "      <td>01/04/11</td>\n",
       "      <td>3468.88</td>\n",
       "    </tr>\n",
       "    <tr>\n",
       "      <th>4</th>\n",
       "      <td>01/05/11</td>\n",
       "      <td>2423.90</td>\n",
       "    </tr>\n",
       "  </tbody>\n",
       "</table>\n",
       "</div>"
      ],
      "text/plain": [
       "         ds        y\n",
       "0  01/01/11  4119.95\n",
       "1  01/02/11  7954.69\n",
       "2  01/03/11  3411.37\n",
       "3  01/04/11  3468.88\n",
       "4  01/05/11  2423.90"
      ]
     },
     "execution_count": 50,
     "metadata": {},
     "output_type": "execute_result"
    }
   ],
   "source": [
    "#make dataframe for fbprophet prediction. Using the full Data frame\n",
    "#Even with gaps in data frame, fbprophet will fill in the blanks with\n",
    "#predictions\n",
    "fbdf = sales[['Date', 'Actual_total']]\n",
    "fbdf.columns = ['ds','y']\n",
    "fbdf.head()"
   ]
  },
  {
   "cell_type": "markdown",
   "metadata": {},
   "source": [
    "#### Holidays"
   ]
  },
  {
   "cell_type": "code",
   "execution_count": 10,
   "metadata": {
    "ExecuteTime": {
     "end_time": "2019-01-06T01:35:09.476881Z",
     "start_time": "2019-01-06T01:35:09.445095Z"
    },
    "scrolled": true
   },
   "outputs": [
    {
     "name": "stderr",
     "output_type": "stream",
     "text": [
      "/anaconda3/envs/tensorflow/lib/python3.6/site-packages/ipykernel_launcher.py:66: FutureWarning: Sorting because non-concatenation axis is not aligned. A future version\n",
      "of pandas will change to not sort by default.\n",
      "\n",
      "To accept the future behavior, pass 'sort=False'.\n",
      "\n",
      "To retain the current behavior and silence the warning, pass 'sort=True'.\n",
      "\n"
     ]
    }
   ],
   "source": [
    "#superbowl, christmas, thanksgiving, mother's day, valentine's day\n",
    "valentines = pd.DataFrame({\n",
    "  'holiday': 'valentine',\n",
    "  'ds': pd.to_datetime(['2011-02-14', '2012-02-14','2013-02-14',\n",
    "                        '2014-02-14', '2015-02-14','2016-02-14',\n",
    "                        '2017-02-14'])\n",
    "})\n",
    "mother = pd.DataFrame({\n",
    "  'holiday': 'mothers day',\n",
    "  'ds': pd.to_datetime(['2011-05-08', '2012-05-13','2013-05-12',\n",
    "                        '2014-05-11', '2015-05-10','2016-05-08',\n",
    "                        '2017-05-14'])\n",
    "})\n",
    "mex_mother = pd.DataFrame({\n",
    "  'holiday': 'mex mothers day',\n",
    "  'ds': pd.to_datetime(['2011-05-10', '2012-05-10','2013-05-10',\n",
    "                        '2014-05-10', '2015-05-10','2016-05-10',\n",
    "                        '2017-05-10'])\n",
    "})\n",
    "father = pd.DataFrame({\n",
    "  'holiday': 'fathers day',\n",
    "  'ds': pd.to_datetime(['2011-06-19', '2012-06-17','2013-06-16',\n",
    "                        '2014-06-15', '2015-06-21','2016-06-19',\n",
    "                        '2017-06-18'])\n",
    "})\n",
    "thanksgiving = pd.DataFrame({\n",
    "  'holiday': 'thanksgiving',\n",
    "  'ds': pd.to_datetime(['2011-11-24', '2012-11-22','2013-11-28',\n",
    "                        '2014-11-27', '2015-11-26','2016-11-24',\n",
    "                        '2017-11-23']),\n",
    "  'lower_window': 0,\n",
    "  'upper_window': 1,\n",
    "})\n",
    "christmas = pd.DataFrame({\n",
    "  'holiday': 'christmas',\n",
    "  'ds': pd.to_datetime(['2011-12-25', '2012-12-25','2013-12-25',\n",
    "                        '2014-12-25', '2015-12-25','2016-12-25',\n",
    "                        '2017-12-25']),\n",
    "  'lower_window': -1,\n",
    "  'upper_window': 0,\n",
    "})\n",
    "newyears = pd.DataFrame({\n",
    "  'holiday': 'new years',\n",
    "  'ds': pd.to_datetime(['2011-01-01', '2012-01-01','2013-01-01',\n",
    "                        '2014-01-01', '2015-01-01','2016-01-01',\n",
    "                        '2017-01-01']),\n",
    "  'lower_window': -1,\n",
    "  'upper_window': 0,\n",
    "})\n",
    "fifa_mexico = pd.DataFrame({\n",
    "  'holiday': 'FIFA Mexico',\n",
    "  'ds': pd.to_datetime(['2014-06-13', '2014-06-17','2014-06-23',\n",
    "                        '2014-06-29'])\n",
    "})\n",
    "fifa_us = pd.DataFrame({\n",
    "  'holiday': 'FIFA USA',\n",
    "  'ds': pd.to_datetime(['2014-06-16', '2014-06-22','2014-06-26',\n",
    "                        '2014-07-01'])\n",
    "})\n",
    "superbowl = pd.DataFrame({\n",
    "  'holiday': 'superbowl',\n",
    "  'ds': pd.to_datetime(['2017-02-05', '2016-02-07','2015-02-01',\n",
    "                        '2014-02-02', '2013-02-03','2012-02-05',\n",
    "                        '2011-02-06'])\n",
    "})\n",
    "holidays = pd.concat((valentines, mother, mex_mother, father, thanksgiving, christmas, newyears, fifa_mexico, fifa_us, superbowl))"
   ]
  },
  {
   "cell_type": "markdown",
   "metadata": {},
   "source": [
    "#### Developing the model"
   ]
  },
  {
   "cell_type": "markdown",
   "metadata": {},
   "source": [
    "Now I'm going to create the prophet object and fit the trend"
   ]
  },
  {
   "cell_type": "code",
   "execution_count": 11,
   "metadata": {
    "ExecuteTime": {
     "end_time": "2019-01-06T01:35:21.721705Z",
     "start_time": "2019-01-06T01:35:20.233620Z"
    },
    "scrolled": true
   },
   "outputs": [
    {
     "name": "stderr",
     "output_type": "stream",
     "text": [
      "INFO:fbprophet:Disabling daily seasonality. Run prophet with daily_seasonality=True to override this.\n"
     ]
    },
    {
     "data": {
      "text/plain": [
       "<fbprophet.forecaster.Prophet at 0x1a1fa1f5c0>"
      ]
     },
     "execution_count": 11,
     "metadata": {},
     "output_type": "execute_result"
    }
   ],
   "source": [
    "m = Prophet(holidays = holidays)\n",
    "m.fit(fbdf)"
   ]
  },
  {
   "cell_type": "markdown",
   "metadata": {},
   "source": [
    "This will extend the dataframe by 365 periods (days in this dataset) to make prediction later"
   ]
  },
  {
   "cell_type": "code",
   "execution_count": 12,
   "metadata": {
    "ExecuteTime": {
     "end_time": "2019-01-06T01:35:25.240981Z",
     "start_time": "2019-01-06T01:35:25.227552Z"
    },
    "scrolled": true
   },
   "outputs": [
    {
     "data": {
      "text/html": [
       "<div>\n",
       "<style scoped>\n",
       "    .dataframe tbody tr th:only-of-type {\n",
       "        vertical-align: middle;\n",
       "    }\n",
       "\n",
       "    .dataframe tbody tr th {\n",
       "        vertical-align: top;\n",
       "    }\n",
       "\n",
       "    .dataframe thead th {\n",
       "        text-align: right;\n",
       "    }\n",
       "</style>\n",
       "<table border=\"1\" class=\"dataframe\">\n",
       "  <thead>\n",
       "    <tr style=\"text-align: right;\">\n",
       "      <th></th>\n",
       "      <th>ds</th>\n",
       "    </tr>\n",
       "  </thead>\n",
       "  <tbody>\n",
       "    <tr>\n",
       "      <th>2552</th>\n",
       "      <td>2017-12-27</td>\n",
       "    </tr>\n",
       "    <tr>\n",
       "      <th>2553</th>\n",
       "      <td>2017-12-28</td>\n",
       "    </tr>\n",
       "    <tr>\n",
       "      <th>2554</th>\n",
       "      <td>2017-12-29</td>\n",
       "    </tr>\n",
       "    <tr>\n",
       "      <th>2555</th>\n",
       "      <td>2017-12-30</td>\n",
       "    </tr>\n",
       "    <tr>\n",
       "      <th>2556</th>\n",
       "      <td>2017-12-31</td>\n",
       "    </tr>\n",
       "  </tbody>\n",
       "</table>\n",
       "</div>"
      ],
      "text/plain": [
       "             ds\n",
       "2552 2017-12-27\n",
       "2553 2017-12-28\n",
       "2554 2017-12-29\n",
       "2555 2017-12-30\n",
       "2556 2017-12-31"
      ]
     },
     "execution_count": 12,
     "metadata": {},
     "output_type": "execute_result"
    }
   ],
   "source": [
    "future = m.make_future_dataframe(periods=365)\n",
    "future.tail()"
   ]
  },
  {
   "cell_type": "markdown",
   "metadata": {},
   "source": [
    "Now, taking the fit, I'm doing to predict future values and get a range for the values I'm predicting"
   ]
  },
  {
   "cell_type": "code",
   "execution_count": 13,
   "metadata": {
    "ExecuteTime": {
     "end_time": "2019-01-06T01:35:38.615527Z",
     "start_time": "2019-01-06T01:35:26.859686Z"
    },
    "scrolled": true
   },
   "outputs": [
    {
     "data": {
      "text/html": [
       "<div>\n",
       "<style scoped>\n",
       "    .dataframe tbody tr th:only-of-type {\n",
       "        vertical-align: middle;\n",
       "    }\n",
       "\n",
       "    .dataframe tbody tr th {\n",
       "        vertical-align: top;\n",
       "    }\n",
       "\n",
       "    .dataframe thead th {\n",
       "        text-align: right;\n",
       "    }\n",
       "</style>\n",
       "<table border=\"1\" class=\"dataframe\">\n",
       "  <thead>\n",
       "    <tr style=\"text-align: right;\">\n",
       "      <th></th>\n",
       "      <th>ds</th>\n",
       "      <th>yhat</th>\n",
       "      <th>yhat_lower</th>\n",
       "      <th>yhat_upper</th>\n",
       "    </tr>\n",
       "  </thead>\n",
       "  <tbody>\n",
       "    <tr>\n",
       "      <th>2552</th>\n",
       "      <td>2017-12-27</td>\n",
       "      <td>6509.780198</td>\n",
       "      <td>5535.058164</td>\n",
       "      <td>7502.964498</td>\n",
       "    </tr>\n",
       "    <tr>\n",
       "      <th>2553</th>\n",
       "      <td>2017-12-28</td>\n",
       "      <td>6477.364481</td>\n",
       "      <td>5350.409135</td>\n",
       "      <td>7439.037799</td>\n",
       "    </tr>\n",
       "    <tr>\n",
       "      <th>2554</th>\n",
       "      <td>2017-12-29</td>\n",
       "      <td>7780.230291</td>\n",
       "      <td>6760.530937</td>\n",
       "      <td>8806.408841</td>\n",
       "    </tr>\n",
       "    <tr>\n",
       "      <th>2555</th>\n",
       "      <td>2017-12-30</td>\n",
       "      <td>9020.569096</td>\n",
       "      <td>7990.050581</td>\n",
       "      <td>10047.964097</td>\n",
       "    </tr>\n",
       "    <tr>\n",
       "      <th>2556</th>\n",
       "      <td>2017-12-31</td>\n",
       "      <td>12802.951606</td>\n",
       "      <td>11682.120512</td>\n",
       "      <td>13811.217177</td>\n",
       "    </tr>\n",
       "  </tbody>\n",
       "</table>\n",
       "</div>"
      ],
      "text/plain": [
       "             ds          yhat    yhat_lower    yhat_upper\n",
       "2552 2017-12-27   6509.780198   5535.058164   7502.964498\n",
       "2553 2017-12-28   6477.364481   5350.409135   7439.037799\n",
       "2554 2017-12-29   7780.230291   6760.530937   8806.408841\n",
       "2555 2017-12-30   9020.569096   7990.050581  10047.964097\n",
       "2556 2017-12-31  12802.951606  11682.120512  13811.217177"
      ]
     },
     "execution_count": 13,
     "metadata": {},
     "output_type": "execute_result"
    }
   ],
   "source": [
    "forecast = m.predict(future)\n",
    "forecast[['ds', 'yhat', 'yhat_lower', 'yhat_upper']].tail()"
   ]
  },
  {
   "cell_type": "markdown",
   "metadata": {},
   "source": [
    "Now lets see the effects of different holidays "
   ]
  },
  {
   "cell_type": "code",
   "execution_count": 14,
   "metadata": {
    "ExecuteTime": {
     "end_time": "2019-01-06T01:35:38.833275Z",
     "start_time": "2019-01-06T01:35:38.811333Z"
    },
    "scrolled": true
   },
   "outputs": [
    {
     "data": {
      "text/html": [
       "<div>\n",
       "<style scoped>\n",
       "    .dataframe tbody tr th:only-of-type {\n",
       "        vertical-align: middle;\n",
       "    }\n",
       "\n",
       "    .dataframe tbody tr th {\n",
       "        vertical-align: top;\n",
       "    }\n",
       "\n",
       "    .dataframe thead th {\n",
       "        text-align: right;\n",
       "    }\n",
       "</style>\n",
       "<table border=\"1\" class=\"dataframe\">\n",
       "  <thead>\n",
       "    <tr style=\"text-align: right;\">\n",
       "      <th></th>\n",
       "      <th>ds</th>\n",
       "      <th>valentine</th>\n",
       "      <th>mothers day</th>\n",
       "      <th>mex mothers day</th>\n",
       "      <th>christmas</th>\n",
       "      <th>fathers day</th>\n",
       "      <th>thanksgiving</th>\n",
       "      <th>new years</th>\n",
       "    </tr>\n",
       "  </thead>\n",
       "  <tbody>\n",
       "    <tr>\n",
       "      <th>2191</th>\n",
       "      <td>2016-12-31</td>\n",
       "      <td>0.000000</td>\n",
       "      <td>0.000000</td>\n",
       "      <td>0.000000</td>\n",
       "      <td>0.000000</td>\n",
       "      <td>0.000000</td>\n",
       "      <td>0.000000</td>\n",
       "      <td>-2157.925806</td>\n",
       "    </tr>\n",
       "    <tr>\n",
       "      <th>2192</th>\n",
       "      <td>2017-01-01</td>\n",
       "      <td>0.000000</td>\n",
       "      <td>0.000000</td>\n",
       "      <td>0.000000</td>\n",
       "      <td>0.000000</td>\n",
       "      <td>0.000000</td>\n",
       "      <td>0.000000</td>\n",
       "      <td>-1450.153480</td>\n",
       "    </tr>\n",
       "    <tr>\n",
       "      <th>2236</th>\n",
       "      <td>2017-02-14</td>\n",
       "      <td>3419.704453</td>\n",
       "      <td>0.000000</td>\n",
       "      <td>0.000000</td>\n",
       "      <td>0.000000</td>\n",
       "      <td>0.000000</td>\n",
       "      <td>0.000000</td>\n",
       "      <td>0.000000</td>\n",
       "    </tr>\n",
       "    <tr>\n",
       "      <th>2321</th>\n",
       "      <td>2017-05-10</td>\n",
       "      <td>0.000000</td>\n",
       "      <td>0.000000</td>\n",
       "      <td>4997.045349</td>\n",
       "      <td>0.000000</td>\n",
       "      <td>0.000000</td>\n",
       "      <td>0.000000</td>\n",
       "      <td>0.000000</td>\n",
       "    </tr>\n",
       "    <tr>\n",
       "      <th>2325</th>\n",
       "      <td>2017-05-14</td>\n",
       "      <td>0.000000</td>\n",
       "      <td>3758.774636</td>\n",
       "      <td>0.000000</td>\n",
       "      <td>0.000000</td>\n",
       "      <td>0.000000</td>\n",
       "      <td>0.000000</td>\n",
       "      <td>0.000000</td>\n",
       "    </tr>\n",
       "    <tr>\n",
       "      <th>2360</th>\n",
       "      <td>2017-06-18</td>\n",
       "      <td>0.000000</td>\n",
       "      <td>0.000000</td>\n",
       "      <td>0.000000</td>\n",
       "      <td>0.000000</td>\n",
       "      <td>3430.938308</td>\n",
       "      <td>0.000000</td>\n",
       "      <td>0.000000</td>\n",
       "    </tr>\n",
       "    <tr>\n",
       "      <th>2518</th>\n",
       "      <td>2017-11-23</td>\n",
       "      <td>0.000000</td>\n",
       "      <td>0.000000</td>\n",
       "      <td>0.000000</td>\n",
       "      <td>0.000000</td>\n",
       "      <td>0.000000</td>\n",
       "      <td>-1167.123728</td>\n",
       "      <td>0.000000</td>\n",
       "    </tr>\n",
       "    <tr>\n",
       "      <th>2519</th>\n",
       "      <td>2017-11-24</td>\n",
       "      <td>0.000000</td>\n",
       "      <td>0.000000</td>\n",
       "      <td>0.000000</td>\n",
       "      <td>0.000000</td>\n",
       "      <td>0.000000</td>\n",
       "      <td>-918.325119</td>\n",
       "      <td>0.000000</td>\n",
       "    </tr>\n",
       "    <tr>\n",
       "      <th>2549</th>\n",
       "      <td>2017-12-24</td>\n",
       "      <td>0.000000</td>\n",
       "      <td>0.000000</td>\n",
       "      <td>0.000000</td>\n",
       "      <td>-2761.100424</td>\n",
       "      <td>0.000000</td>\n",
       "      <td>0.000000</td>\n",
       "      <td>0.000000</td>\n",
       "    </tr>\n",
       "    <tr>\n",
       "      <th>2550</th>\n",
       "      <td>2017-12-25</td>\n",
       "      <td>0.000000</td>\n",
       "      <td>0.000000</td>\n",
       "      <td>0.000000</td>\n",
       "      <td>-2889.932120</td>\n",
       "      <td>0.000000</td>\n",
       "      <td>0.000000</td>\n",
       "      <td>0.000000</td>\n",
       "    </tr>\n",
       "  </tbody>\n",
       "</table>\n",
       "</div>"
      ],
      "text/plain": [
       "             ds    valentine  mothers day  mex mothers day    christmas  \\\n",
       "2191 2016-12-31     0.000000     0.000000         0.000000     0.000000   \n",
       "2192 2017-01-01     0.000000     0.000000         0.000000     0.000000   \n",
       "2236 2017-02-14  3419.704453     0.000000         0.000000     0.000000   \n",
       "2321 2017-05-10     0.000000     0.000000      4997.045349     0.000000   \n",
       "2325 2017-05-14     0.000000  3758.774636         0.000000     0.000000   \n",
       "2360 2017-06-18     0.000000     0.000000         0.000000     0.000000   \n",
       "2518 2017-11-23     0.000000     0.000000         0.000000     0.000000   \n",
       "2519 2017-11-24     0.000000     0.000000         0.000000     0.000000   \n",
       "2549 2017-12-24     0.000000     0.000000         0.000000 -2761.100424   \n",
       "2550 2017-12-25     0.000000     0.000000         0.000000 -2889.932120   \n",
       "\n",
       "      fathers day  thanksgiving    new years  \n",
       "2191     0.000000      0.000000 -2157.925806  \n",
       "2192     0.000000      0.000000 -1450.153480  \n",
       "2236     0.000000      0.000000     0.000000  \n",
       "2321     0.000000      0.000000     0.000000  \n",
       "2325     0.000000      0.000000     0.000000  \n",
       "2360  3430.938308      0.000000     0.000000  \n",
       "2518     0.000000  -1167.123728     0.000000  \n",
       "2519     0.000000   -918.325119     0.000000  \n",
       "2549     0.000000      0.000000     0.000000  \n",
       "2550     0.000000      0.000000     0.000000  "
      ]
     },
     "execution_count": 14,
     "metadata": {},
     "output_type": "execute_result"
    }
   ],
   "source": [
    "holiday_effects = forecast[(forecast['valentine'] + forecast['mothers day'] + forecast['mex mothers day'] + forecast['christmas'] + forecast['fathers day'] + forecast['thanksgiving'] + forecast['new years']).abs() > 0][\n",
    "    ['ds', 'valentine', 'mothers day', 'mex mothers day', 'christmas', 'fathers day', 'thanksgiving', 'new years']]\n",
    "holiday_effects[-10:]"
   ]
  },
  {
   "cell_type": "markdown",
   "metadata": {},
   "source": [
    "And the effects of different sporting events"
   ]
  },
  {
   "cell_type": "code",
   "execution_count": 15,
   "metadata": {
    "ExecuteTime": {
     "end_time": "2019-01-06T01:35:39.070553Z",
     "start_time": "2019-01-06T01:35:39.057231Z"
    },
    "scrolled": false
   },
   "outputs": [
    {
     "data": {
      "text/html": [
       "<div>\n",
       "<style scoped>\n",
       "    .dataframe tbody tr th:only-of-type {\n",
       "        vertical-align: middle;\n",
       "    }\n",
       "\n",
       "    .dataframe tbody tr th {\n",
       "        vertical-align: top;\n",
       "    }\n",
       "\n",
       "    .dataframe thead th {\n",
       "        text-align: right;\n",
       "    }\n",
       "</style>\n",
       "<table border=\"1\" class=\"dataframe\">\n",
       "  <thead>\n",
       "    <tr style=\"text-align: right;\">\n",
       "      <th></th>\n",
       "      <th>ds</th>\n",
       "      <th>FIFA Mexico</th>\n",
       "      <th>FIFA USA</th>\n",
       "      <th>superbowl</th>\n",
       "    </tr>\n",
       "  </thead>\n",
       "  <tbody>\n",
       "    <tr>\n",
       "      <th>36</th>\n",
       "      <td>2011-02-06</td>\n",
       "      <td>0.000000</td>\n",
       "      <td>0.000000</td>\n",
       "      <td>-2154.241009</td>\n",
       "    </tr>\n",
       "    <tr>\n",
       "      <th>400</th>\n",
       "      <td>2012-02-05</td>\n",
       "      <td>0.000000</td>\n",
       "      <td>0.000000</td>\n",
       "      <td>-2154.241009</td>\n",
       "    </tr>\n",
       "    <tr>\n",
       "      <th>764</th>\n",
       "      <td>2013-02-03</td>\n",
       "      <td>0.000000</td>\n",
       "      <td>0.000000</td>\n",
       "      <td>-2154.241009</td>\n",
       "    </tr>\n",
       "    <tr>\n",
       "      <th>1128</th>\n",
       "      <td>2014-02-02</td>\n",
       "      <td>0.000000</td>\n",
       "      <td>0.000000</td>\n",
       "      <td>-2154.241009</td>\n",
       "    </tr>\n",
       "    <tr>\n",
       "      <th>1259</th>\n",
       "      <td>2014-06-13</td>\n",
       "      <td>-411.032291</td>\n",
       "      <td>0.000000</td>\n",
       "      <td>0.000000</td>\n",
       "    </tr>\n",
       "    <tr>\n",
       "      <th>1262</th>\n",
       "      <td>2014-06-16</td>\n",
       "      <td>0.000000</td>\n",
       "      <td>-280.051784</td>\n",
       "      <td>0.000000</td>\n",
       "    </tr>\n",
       "    <tr>\n",
       "      <th>1263</th>\n",
       "      <td>2014-06-17</td>\n",
       "      <td>-411.032291</td>\n",
       "      <td>0.000000</td>\n",
       "      <td>0.000000</td>\n",
       "    </tr>\n",
       "    <tr>\n",
       "      <th>1268</th>\n",
       "      <td>2014-06-22</td>\n",
       "      <td>0.000000</td>\n",
       "      <td>-280.051784</td>\n",
       "      <td>0.000000</td>\n",
       "    </tr>\n",
       "    <tr>\n",
       "      <th>1269</th>\n",
       "      <td>2014-06-23</td>\n",
       "      <td>-411.032291</td>\n",
       "      <td>0.000000</td>\n",
       "      <td>0.000000</td>\n",
       "    </tr>\n",
       "    <tr>\n",
       "      <th>1272</th>\n",
       "      <td>2014-06-26</td>\n",
       "      <td>0.000000</td>\n",
       "      <td>-280.051784</td>\n",
       "      <td>0.000000</td>\n",
       "    </tr>\n",
       "    <tr>\n",
       "      <th>1275</th>\n",
       "      <td>2014-06-29</td>\n",
       "      <td>-411.032291</td>\n",
       "      <td>0.000000</td>\n",
       "      <td>0.000000</td>\n",
       "    </tr>\n",
       "    <tr>\n",
       "      <th>1277</th>\n",
       "      <td>2014-07-01</td>\n",
       "      <td>0.000000</td>\n",
       "      <td>-280.051784</td>\n",
       "      <td>0.000000</td>\n",
       "    </tr>\n",
       "    <tr>\n",
       "      <th>1492</th>\n",
       "      <td>2015-02-01</td>\n",
       "      <td>0.000000</td>\n",
       "      <td>0.000000</td>\n",
       "      <td>-2154.241009</td>\n",
       "    </tr>\n",
       "    <tr>\n",
       "      <th>1863</th>\n",
       "      <td>2016-02-07</td>\n",
       "      <td>0.000000</td>\n",
       "      <td>0.000000</td>\n",
       "      <td>-2154.241009</td>\n",
       "    </tr>\n",
       "    <tr>\n",
       "      <th>2227</th>\n",
       "      <td>2017-02-05</td>\n",
       "      <td>0.000000</td>\n",
       "      <td>0.000000</td>\n",
       "      <td>-2154.241009</td>\n",
       "    </tr>\n",
       "  </tbody>\n",
       "</table>\n",
       "</div>"
      ],
      "text/plain": [
       "             ds  FIFA Mexico    FIFA USA    superbowl\n",
       "36   2011-02-06     0.000000    0.000000 -2154.241009\n",
       "400  2012-02-05     0.000000    0.000000 -2154.241009\n",
       "764  2013-02-03     0.000000    0.000000 -2154.241009\n",
       "1128 2014-02-02     0.000000    0.000000 -2154.241009\n",
       "1259 2014-06-13  -411.032291    0.000000     0.000000\n",
       "1262 2014-06-16     0.000000 -280.051784     0.000000\n",
       "1263 2014-06-17  -411.032291    0.000000     0.000000\n",
       "1268 2014-06-22     0.000000 -280.051784     0.000000\n",
       "1269 2014-06-23  -411.032291    0.000000     0.000000\n",
       "1272 2014-06-26     0.000000 -280.051784     0.000000\n",
       "1275 2014-06-29  -411.032291    0.000000     0.000000\n",
       "1277 2014-07-01     0.000000 -280.051784     0.000000\n",
       "1492 2015-02-01     0.000000    0.000000 -2154.241009\n",
       "1863 2016-02-07     0.000000    0.000000 -2154.241009\n",
       "2227 2017-02-05     0.000000    0.000000 -2154.241009"
      ]
     },
     "execution_count": 15,
     "metadata": {},
     "output_type": "execute_result"
    }
   ],
   "source": [
    "sports_effects = forecast[(forecast['FIFA Mexico'] + forecast['FIFA USA'] + forecast['superbowl']).abs() > 0][['ds', 'FIFA Mexico', 'FIFA USA', 'superbowl']]\n",
    "sports_effects"
   ]
  },
  {
   "cell_type": "markdown",
   "metadata": {},
   "source": [
    "All of these holidays and events now have a measureable impact. Surprisingly, the world cup has a negligible effect on business. The superbowl has a much stronger effect than originally thought."
   ]
  },
  {
   "cell_type": "markdown",
   "metadata": {},
   "source": [
    "Prophet will also give predictive values for the gap value as shown in the plot below"
   ]
  },
  {
   "cell_type": "code",
   "execution_count": 16,
   "metadata": {
    "ExecuteTime": {
     "end_time": "2019-01-06T01:35:39.637586Z",
     "start_time": "2019-01-06T01:35:39.289130Z"
    },
    "scrolled": false
   },
   "outputs": [
    {
     "data": {
      "image/png": "[encoded data removed]",
      "text/plain": [
       "<Figure size 720x432 with 1 Axes>"
      ]
     },
     "metadata": {},
     "output_type": "display_data"
    }
   ],
   "source": [
    "fig1 = m.plot(forecast)"
   ]
  },
  {
   "cell_type": "code",
   "execution_count": 17,
   "metadata": {
    "ExecuteTime": {
     "end_time": "2019-01-06T01:35:42.747819Z",
     "start_time": "2019-01-06T01:35:39.853739Z"
    },
    "scrolled": true
   },
   "outputs": [
    {
     "data": {
      "image/png": "[encoded data removed]",
      "text/plain": [
       "<Figure size 648x864 with 4 Axes>"
      ]
     },
     "metadata": {},
     "output_type": "display_data"
    }
   ],
   "source": [
    "fig2 = m.plot_components(forecast)"
   ]
  },
  {
   "cell_type": "markdown",
   "metadata": {},
   "source": [
    "Gonna check to see that this prediction makes sense using diagnostics. Starting from 2 years in, it will attempt to cross validate every 180 days for a window of one year."
   ]
  },
  {
   "cell_type": "code",
   "execution_count": 18,
   "metadata": {
    "ExecuteTime": {
     "end_time": "2019-01-06T01:36:10.420912Z",
     "start_time": "2019-01-06T01:35:46.150425Z"
    }
   },
   "outputs": [
    {
     "name": "stderr",
     "output_type": "stream",
     "text": [
      "INFO:fbprophet:Making 7 forecasts with cutoffs between 2013-01-16 00:00:00 and 2016-01-01 00:00:00\n"
     ]
    },
    {
     "data": {
      "text/html": [
       "<div>\n",
       "<style scoped>\n",
       "    .dataframe tbody tr th:only-of-type {\n",
       "        vertical-align: middle;\n",
       "    }\n",
       "\n",
       "    .dataframe tbody tr th {\n",
       "        vertical-align: top;\n",
       "    }\n",
       "\n",
       "    .dataframe thead th {\n",
       "        text-align: right;\n",
       "    }\n",
       "</style>\n",
       "<table border=\"1\" class=\"dataframe\">\n",
       "  <thead>\n",
       "    <tr style=\"text-align: right;\">\n",
       "      <th></th>\n",
       "      <th>ds</th>\n",
       "      <th>yhat</th>\n",
       "      <th>yhat_lower</th>\n",
       "      <th>yhat_upper</th>\n",
       "      <th>y</th>\n",
       "      <th>cutoff</th>\n",
       "    </tr>\n",
       "  </thead>\n",
       "  <tbody>\n",
       "    <tr>\n",
       "      <th>0</th>\n",
       "      <td>2013-01-17</td>\n",
       "      <td>3031.133059</td>\n",
       "      <td>2290.741526</td>\n",
       "      <td>3850.969272</td>\n",
       "      <td>2919.75</td>\n",
       "      <td>2013-01-16</td>\n",
       "    </tr>\n",
       "    <tr>\n",
       "      <th>1</th>\n",
       "      <td>2013-01-18</td>\n",
       "      <td>4217.699269</td>\n",
       "      <td>3353.445467</td>\n",
       "      <td>5017.176356</td>\n",
       "      <td>4226.48</td>\n",
       "      <td>2013-01-16</td>\n",
       "    </tr>\n",
       "    <tr>\n",
       "      <th>2</th>\n",
       "      <td>2013-01-19</td>\n",
       "      <td>5530.830184</td>\n",
       "      <td>4673.357168</td>\n",
       "      <td>6374.676782</td>\n",
       "      <td>4856.27</td>\n",
       "      <td>2013-01-16</td>\n",
       "    </tr>\n",
       "    <tr>\n",
       "      <th>3</th>\n",
       "      <td>2013-01-20</td>\n",
       "      <td>8494.781704</td>\n",
       "      <td>7762.271299</td>\n",
       "      <td>9276.413185</td>\n",
       "      <td>8575.50</td>\n",
       "      <td>2013-01-16</td>\n",
       "    </tr>\n",
       "    <tr>\n",
       "      <th>4</th>\n",
       "      <td>2013-01-21</td>\n",
       "      <td>2998.981629</td>\n",
       "      <td>2206.357508</td>\n",
       "      <td>3763.120633</td>\n",
       "      <td>2701.54</td>\n",
       "      <td>2013-01-16</td>\n",
       "    </tr>\n",
       "  </tbody>\n",
       "</table>\n",
       "</div>"
      ],
      "text/plain": [
       "          ds         yhat   yhat_lower   yhat_upper        y     cutoff\n",
       "0 2013-01-17  3031.133059  2290.741526  3850.969272  2919.75 2013-01-16\n",
       "1 2013-01-18  4217.699269  3353.445467  5017.176356  4226.48 2013-01-16\n",
       "2 2013-01-19  5530.830184  4673.357168  6374.676782  4856.27 2013-01-16\n",
       "3 2013-01-20  8494.781704  7762.271299  9276.413185  8575.50 2013-01-16\n",
       "4 2013-01-21  2998.981629  2206.357508  3763.120633  2701.54 2013-01-16"
      ]
     },
     "execution_count": 18,
     "metadata": {},
     "output_type": "execute_result"
    }
   ],
   "source": [
    "from fbprophet.diagnostics import cross_validation\n",
    "df_cv = cross_validation(m, initial='730 days', period='180 days', horizon = '365 days')\n",
    "df_cv.head()"
   ]
  },
  {
   "cell_type": "code",
   "execution_count": 19,
   "metadata": {
    "ExecuteTime": {
     "end_time": "2019-01-06T01:36:10.695550Z",
     "start_time": "2019-01-06T01:36:10.667789Z"
    },
    "scrolled": true
   },
   "outputs": [
    {
     "data": {
      "text/html": [
       "<div>\n",
       "<style scoped>\n",
       "    .dataframe tbody tr th:only-of-type {\n",
       "        vertical-align: middle;\n",
       "    }\n",
       "\n",
       "    .dataframe tbody tr th {\n",
       "        vertical-align: top;\n",
       "    }\n",
       "\n",
       "    .dataframe thead th {\n",
       "        text-align: right;\n",
       "    }\n",
       "</style>\n",
       "<table border=\"1\" class=\"dataframe\">\n",
       "  <thead>\n",
       "    <tr style=\"text-align: right;\">\n",
       "      <th></th>\n",
       "      <th>horizon</th>\n",
       "      <th>mse</th>\n",
       "      <th>rmse</th>\n",
       "      <th>mae</th>\n",
       "      <th>mape</th>\n",
       "      <th>coverage</th>\n",
       "    </tr>\n",
       "  </thead>\n",
       "  <tbody>\n",
       "    <tr>\n",
       "      <th>1121</th>\n",
       "      <td>40 days</td>\n",
       "      <td>554660.201086</td>\n",
       "      <td>744.755128</td>\n",
       "      <td>564.200653</td>\n",
       "      <td>0.115475</td>\n",
       "      <td>0.761702</td>\n",
       "    </tr>\n",
       "    <tr>\n",
       "      <th>2031</th>\n",
       "      <td>40 days</td>\n",
       "      <td>562867.178412</td>\n",
       "      <td>750.244746</td>\n",
       "      <td>569.655253</td>\n",
       "      <td>0.116734</td>\n",
       "      <td>0.757447</td>\n",
       "    </tr>\n",
       "    <tr>\n",
       "      <th>403</th>\n",
       "      <td>40 days</td>\n",
       "      <td>565034.576742</td>\n",
       "      <td>751.687819</td>\n",
       "      <td>572.171919</td>\n",
       "      <td>0.117218</td>\n",
       "      <td>0.757447</td>\n",
       "    </tr>\n",
       "    <tr>\n",
       "      <th>767</th>\n",
       "      <td>40 days</td>\n",
       "      <td>566548.849686</td>\n",
       "      <td>752.694393</td>\n",
       "      <td>573.893034</td>\n",
       "      <td>0.117734</td>\n",
       "      <td>0.757447</td>\n",
       "    </tr>\n",
       "    <tr>\n",
       "      <th>1670</th>\n",
       "      <td>40 days</td>\n",
       "      <td>567140.587687</td>\n",
       "      <td>753.087371</td>\n",
       "      <td>575.065509</td>\n",
       "      <td>0.117926</td>\n",
       "      <td>0.757447</td>\n",
       "    </tr>\n",
       "  </tbody>\n",
       "</table>\n",
       "</div>"
      ],
      "text/plain": [
       "     horizon            mse        rmse         mae      mape  coverage\n",
       "1121 40 days  554660.201086  744.755128  564.200653  0.115475  0.761702\n",
       "2031 40 days  562867.178412  750.244746  569.655253  0.116734  0.757447\n",
       "403  40 days  565034.576742  751.687819  572.171919  0.117218  0.757447\n",
       "767  40 days  566548.849686  752.694393  573.893034  0.117734  0.757447\n",
       "1670 40 days  567140.587687  753.087371  575.065509  0.117926  0.757447"
      ]
     },
     "execution_count": 19,
     "metadata": {},
     "output_type": "execute_result"
    }
   ],
   "source": [
    "from fbprophet.diagnostics import performance_metrics\n",
    "df_p = performance_metrics(df_cv)\n",
    "df_p.head()"
   ]
  },
  {
   "cell_type": "markdown",
   "metadata": {},
   "source": [
    "An RMSE of 800 is pretty large, but understandably the best forecasting can do sometimes. "
   ]
  },
  {
   "cell_type": "code",
   "execution_count": 20,
   "metadata": {
    "ExecuteTime": {
     "end_time": "2019-01-06T01:36:11.207799Z",
     "start_time": "2019-01-06T01:36:10.968600Z"
    },
    "scrolled": true
   },
   "outputs": [
    {
     "data": {
      "image/png": "[encoded data removed]",
      "text/plain": [
       "<Figure size 720x432 with 1 Axes>"
      ]
     },
     "metadata": {},
     "output_type": "display_data"
    }
   ],
   "source": [
    "from fbprophet.plot import plot_cross_validation_metric\n",
    "fig = plot_cross_validation_metric(df_cv, metric='mape')"
   ]
  },
  {
   "cell_type": "code",
   "execution_count": 21,
   "metadata": {
    "ExecuteTime": {
     "end_time": "2019-01-06T01:36:11.470025Z",
     "start_time": "2019-01-06T01:36:11.458498Z"
    },
    "scrolled": true
   },
   "outputs": [
    {
     "data": {
      "text/plain": [
       "((32, 6), (8, 6))"
      ]
     },
     "execution_count": 21,
     "metadata": {},
     "output_type": "execute_result"
    }
   ],
   "source": [
    "# calculate outliers based on number of deviations away from yhat. \n",
    "#(is yhat_upper - yhat one stdev?)\n",
    "deviation_multiplier = 3\n",
    "upper_outliers = df_cv[(df_cv[\"yhat_upper\"] - df_cv[\"yhat\"]) * deviation_multiplier + df_cv[\"yhat\"] < df_cv[\"y\"]]\n",
    "lower_outliers = df_cv[(df_cv[\"yhat_lower\"] - df_cv[\"yhat\"]) * deviation_multiplier + df_cv[\"yhat\"] > df_cv[\"y\"]]\n",
    "upper_outliers.shape, lower_outliers.shape"
   ]
  },
  {
   "cell_type": "markdown",
   "metadata": {},
   "source": [
    "## These are the outliers to check out first. Then reduce deviation_multiplier to 2."
   ]
  },
  {
   "cell_type": "code",
   "execution_count": 22,
   "metadata": {
    "ExecuteTime": {
     "end_time": "2019-01-06T01:36:18.241043Z",
     "start_time": "2019-01-06T01:36:18.221677Z"
    },
    "scrolled": true
   },
   "outputs": [
    {
     "data": {
      "text/html": [
       "<div>\n",
       "<style scoped>\n",
       "    .dataframe tbody tr th:only-of-type {\n",
       "        vertical-align: middle;\n",
       "    }\n",
       "\n",
       "    .dataframe tbody tr th {\n",
       "        vertical-align: top;\n",
       "    }\n",
       "\n",
       "    .dataframe thead th {\n",
       "        text-align: right;\n",
       "    }\n",
       "</style>\n",
       "<table border=\"1\" class=\"dataframe\">\n",
       "  <thead>\n",
       "    <tr style=\"text-align: right;\">\n",
       "      <th></th>\n",
       "      <th>ds</th>\n",
       "      <th>yhat</th>\n",
       "      <th>yhat_lower</th>\n",
       "      <th>yhat_upper</th>\n",
       "      <th>y</th>\n",
       "      <th>cutoff</th>\n",
       "    </tr>\n",
       "  </thead>\n",
       "  <tbody>\n",
       "    <tr>\n",
       "      <th>52</th>\n",
       "      <td>2013-03-10</td>\n",
       "      <td>9288.902153</td>\n",
       "      <td>8501.863063</td>\n",
       "      <td>10047.909398</td>\n",
       "      <td>12381.01</td>\n",
       "      <td>2013-01-16</td>\n",
       "    </tr>\n",
       "    <tr>\n",
       "      <th>66</th>\n",
       "      <td>2013-03-24</td>\n",
       "      <td>9410.696286</td>\n",
       "      <td>8621.566847</td>\n",
       "      <td>10212.965176</td>\n",
       "      <td>12422.56</td>\n",
       "      <td>2013-01-16</td>\n",
       "    </tr>\n",
       "    <tr>\n",
       "      <th>637</th>\n",
       "      <td>2014-04-16</td>\n",
       "      <td>3903.529905</td>\n",
       "      <td>3079.599239</td>\n",
       "      <td>4775.541431</td>\n",
       "      <td>7114.60</td>\n",
       "      <td>2013-07-15</td>\n",
       "    </tr>\n",
       "    <tr>\n",
       "      <th>822</th>\n",
       "      <td>2014-04-16</td>\n",
       "      <td>3676.636544</td>\n",
       "      <td>2772.516850</td>\n",
       "      <td>4458.877025</td>\n",
       "      <td>7114.60</td>\n",
       "      <td>2014-01-11</td>\n",
       "    </tr>\n",
       "    <tr>\n",
       "      <th>868</th>\n",
       "      <td>2014-06-01</td>\n",
       "      <td>9470.572575</td>\n",
       "      <td>8622.833797</td>\n",
       "      <td>10332.863272</td>\n",
       "      <td>12392.10</td>\n",
       "      <td>2014-01-11</td>\n",
       "    </tr>\n",
       "    <tr>\n",
       "      <th>960</th>\n",
       "      <td>2014-09-01</td>\n",
       "      <td>2947.558240</td>\n",
       "      <td>2126.200415</td>\n",
       "      <td>3838.865828</td>\n",
       "      <td>5957.67</td>\n",
       "      <td>2014-01-11</td>\n",
       "    </tr>\n",
       "    <tr>\n",
       "      <th>1036</th>\n",
       "      <td>2014-11-16</td>\n",
       "      <td>8820.817316</td>\n",
       "      <td>7934.433617</td>\n",
       "      <td>9724.709565</td>\n",
       "      <td>12098.17</td>\n",
       "      <td>2014-01-11</td>\n",
       "    </tr>\n",
       "    <tr>\n",
       "      <th>1057</th>\n",
       "      <td>2014-12-07</td>\n",
       "      <td>9090.924978</td>\n",
       "      <td>8229.400442</td>\n",
       "      <td>9911.250245</td>\n",
       "      <td>12417.25</td>\n",
       "      <td>2014-01-11</td>\n",
       "    </tr>\n",
       "    <tr>\n",
       "      <th>1071</th>\n",
       "      <td>2014-12-21</td>\n",
       "      <td>9506.860567</td>\n",
       "      <td>8665.901102</td>\n",
       "      <td>10322.680304</td>\n",
       "      <td>12553.69</td>\n",
       "      <td>2014-01-11</td>\n",
       "    </tr>\n",
       "    <tr>\n",
       "      <th>1075</th>\n",
       "      <td>2014-12-25</td>\n",
       "      <td>1155.377658</td>\n",
       "      <td>241.401295</td>\n",
       "      <td>2044.161094</td>\n",
       "      <td>4353.12</td>\n",
       "      <td>2014-01-11</td>\n",
       "    </tr>\n",
       "    <tr>\n",
       "      <th>1134</th>\n",
       "      <td>2014-09-01</td>\n",
       "      <td>3044.688845</td>\n",
       "      <td>2147.755133</td>\n",
       "      <td>3928.353625</td>\n",
       "      <td>5957.67</td>\n",
       "      <td>2014-07-10</td>\n",
       "    </tr>\n",
       "    <tr>\n",
       "      <th>1210</th>\n",
       "      <td>2014-11-16</td>\n",
       "      <td>9107.828663</td>\n",
       "      <td>8192.601530</td>\n",
       "      <td>10040.355606</td>\n",
       "      <td>12098.17</td>\n",
       "      <td>2014-07-10</td>\n",
       "    </tr>\n",
       "    <tr>\n",
       "      <th>1231</th>\n",
       "      <td>2014-12-07</td>\n",
       "      <td>9369.131271</td>\n",
       "      <td>8517.586118</td>\n",
       "      <td>10253.340138</td>\n",
       "      <td>12417.25</td>\n",
       "      <td>2014-07-10</td>\n",
       "    </tr>\n",
       "    <tr>\n",
       "      <th>1245</th>\n",
       "      <td>2014-12-21</td>\n",
       "      <td>9804.628585</td>\n",
       "      <td>8874.476295</td>\n",
       "      <td>10686.364841</td>\n",
       "      <td>12553.69</td>\n",
       "      <td>2014-07-10</td>\n",
       "    </tr>\n",
       "    <tr>\n",
       "      <th>1249</th>\n",
       "      <td>2014-12-25</td>\n",
       "      <td>1235.569504</td>\n",
       "      <td>320.681844</td>\n",
       "      <td>2158.186778</td>\n",
       "      <td>4353.12</td>\n",
       "      <td>2014-07-10</td>\n",
       "    </tr>\n",
       "    <tr>\n",
       "      <th>1258</th>\n",
       "      <td>2015-04-03</td>\n",
       "      <td>5227.408354</td>\n",
       "      <td>4391.583745</td>\n",
       "      <td>6106.723785</td>\n",
       "      <td>8212.01</td>\n",
       "      <td>2014-07-10</td>\n",
       "    </tr>\n",
       "    <tr>\n",
       "      <th>1286</th>\n",
       "      <td>2015-05-01</td>\n",
       "      <td>5061.108824</td>\n",
       "      <td>4152.288708</td>\n",
       "      <td>5923.972393</td>\n",
       "      <td>8571.31</td>\n",
       "      <td>2014-07-10</td>\n",
       "    </tr>\n",
       "    <tr>\n",
       "      <th>1311</th>\n",
       "      <td>2015-05-26</td>\n",
       "      <td>3657.590426</td>\n",
       "      <td>2738.689120</td>\n",
       "      <td>4604.174915</td>\n",
       "      <td>6891.38</td>\n",
       "      <td>2014-07-10</td>\n",
       "    </tr>\n",
       "    <tr>\n",
       "      <th>1509</th>\n",
       "      <td>2015-09-07</td>\n",
       "      <td>4699.158554</td>\n",
       "      <td>3831.384067</td>\n",
       "      <td>5579.723178</td>\n",
       "      <td>7360.22</td>\n",
       "      <td>2015-01-06</td>\n",
       "    </tr>\n",
       "    <tr>\n",
       "      <th>1691</th>\n",
       "      <td>2015-09-07</td>\n",
       "      <td>4075.359681</td>\n",
       "      <td>3108.217234</td>\n",
       "      <td>4979.689821</td>\n",
       "      <td>7360.22</td>\n",
       "      <td>2015-07-05</td>\n",
       "    </tr>\n",
       "    <tr>\n",
       "      <th>1746</th>\n",
       "      <td>2015-11-01</td>\n",
       "      <td>10276.878662</td>\n",
       "      <td>9327.394049</td>\n",
       "      <td>11173.324192</td>\n",
       "      <td>13225.92</td>\n",
       "      <td>2015-07-05</td>\n",
       "    </tr>\n",
       "    <tr>\n",
       "      <th>1858</th>\n",
       "      <td>2016-02-21</td>\n",
       "      <td>11390.041249</td>\n",
       "      <td>10478.744351</td>\n",
       "      <td>12311.115279</td>\n",
       "      <td>14297.77</td>\n",
       "      <td>2015-07-05</td>\n",
       "    </tr>\n",
       "    <tr>\n",
       "      <th>1865</th>\n",
       "      <td>2016-02-28</td>\n",
       "      <td>11282.881927</td>\n",
       "      <td>10302.291517</td>\n",
       "      <td>12172.707781</td>\n",
       "      <td>14273.36</td>\n",
       "      <td>2015-07-05</td>\n",
       "    </tr>\n",
       "    <tr>\n",
       "      <th>1907</th>\n",
       "      <td>2016-04-10</td>\n",
       "      <td>11263.648841</td>\n",
       "      <td>10262.755401</td>\n",
       "      <td>12163.683991</td>\n",
       "      <td>14069.50</td>\n",
       "      <td>2015-07-05</td>\n",
       "    </tr>\n",
       "    <tr>\n",
       "      <th>1921</th>\n",
       "      <td>2016-04-24</td>\n",
       "      <td>11216.693818</td>\n",
       "      <td>10293.301700</td>\n",
       "      <td>12172.253054</td>\n",
       "      <td>14570.54</td>\n",
       "      <td>2015-07-05</td>\n",
       "    </tr>\n",
       "    <tr>\n",
       "      <th>1935</th>\n",
       "      <td>2016-05-08</td>\n",
       "      <td>14633.107065</td>\n",
       "      <td>13685.034500</td>\n",
       "      <td>15544.204020</td>\n",
       "      <td>18472.49</td>\n",
       "      <td>2015-07-05</td>\n",
       "    </tr>\n",
       "    <tr>\n",
       "      <th>1960</th>\n",
       "      <td>2016-06-03</td>\n",
       "      <td>6823.247706</td>\n",
       "      <td>5867.146218</td>\n",
       "      <td>7780.356250</td>\n",
       "      <td>10094.26</td>\n",
       "      <td>2015-07-05</td>\n",
       "    </tr>\n",
       "    <tr>\n",
       "      <th>2105</th>\n",
       "      <td>2016-04-24</td>\n",
       "      <td>11597.749665</td>\n",
       "      <td>10701.956363</td>\n",
       "      <td>12571.973880</td>\n",
       "      <td>14570.54</td>\n",
       "      <td>2016-01-01</td>\n",
       "    </tr>\n",
       "    <tr>\n",
       "      <th>2119</th>\n",
       "      <td>2016-05-08</td>\n",
       "      <td>14873.639665</td>\n",
       "      <td>13867.993724</td>\n",
       "      <td>15853.075953</td>\n",
       "      <td>18472.49</td>\n",
       "      <td>2016-01-01</td>\n",
       "    </tr>\n",
       "    <tr>\n",
       "      <th>2144</th>\n",
       "      <td>2016-06-03</td>\n",
       "      <td>7091.951686</td>\n",
       "      <td>6061.355082</td>\n",
       "      <td>8026.629246</td>\n",
       "      <td>10094.26</td>\n",
       "      <td>2016-01-01</td>\n",
       "    </tr>\n",
       "    <tr>\n",
       "      <th>2223</th>\n",
       "      <td>2016-08-21</td>\n",
       "      <td>11661.709958</td>\n",
       "      <td>10705.150378</td>\n",
       "      <td>12579.128691</td>\n",
       "      <td>14622.66</td>\n",
       "      <td>2016-01-01</td>\n",
       "    </tr>\n",
       "    <tr>\n",
       "      <th>2284</th>\n",
       "      <td>2016-10-22</td>\n",
       "      <td>7810.519636</td>\n",
       "      <td>6895.395138</td>\n",
       "      <td>8738.911565</td>\n",
       "      <td>11190.33</td>\n",
       "      <td>2016-01-01</td>\n",
       "    </tr>\n",
       "  </tbody>\n",
       "</table>\n",
       "</div>"
      ],
      "text/plain": [
       "             ds          yhat    yhat_lower    yhat_upper         y     cutoff\n",
       "52   2013-03-10   9288.902153   8501.863063  10047.909398  12381.01 2013-01-16\n",
       "66   2013-03-24   9410.696286   8621.566847  10212.965176  12422.56 2013-01-16\n",
       "637  2014-04-16   3903.529905   3079.599239   4775.541431   7114.60 2013-07-15\n",
       "822  2014-04-16   3676.636544   2772.516850   4458.877025   7114.60 2014-01-11\n",
       "868  2014-06-01   9470.572575   8622.833797  10332.863272  12392.10 2014-01-11\n",
       "960  2014-09-01   2947.558240   2126.200415   3838.865828   5957.67 2014-01-11\n",
       "1036 2014-11-16   8820.817316   7934.433617   9724.709565  12098.17 2014-01-11\n",
       "1057 2014-12-07   9090.924978   8229.400442   9911.250245  12417.25 2014-01-11\n",
       "1071 2014-12-21   9506.860567   8665.901102  10322.680304  12553.69 2014-01-11\n",
       "1075 2014-12-25   1155.377658    241.401295   2044.161094   4353.12 2014-01-11\n",
       "1134 2014-09-01   3044.688845   2147.755133   3928.353625   5957.67 2014-07-10\n",
       "1210 2014-11-16   9107.828663   8192.601530  10040.355606  12098.17 2014-07-10\n",
       "1231 2014-12-07   9369.131271   8517.586118  10253.340138  12417.25 2014-07-10\n",
       "1245 2014-12-21   9804.628585   8874.476295  10686.364841  12553.69 2014-07-10\n",
       "1249 2014-12-25   1235.569504    320.681844   2158.186778   4353.12 2014-07-10\n",
       "1258 2015-04-03   5227.408354   4391.583745   6106.723785   8212.01 2014-07-10\n",
       "1286 2015-05-01   5061.108824   4152.288708   5923.972393   8571.31 2014-07-10\n",
       "1311 2015-05-26   3657.590426   2738.689120   4604.174915   6891.38 2014-07-10\n",
       "1509 2015-09-07   4699.158554   3831.384067   5579.723178   7360.22 2015-01-06\n",
       "1691 2015-09-07   4075.359681   3108.217234   4979.689821   7360.22 2015-07-05\n",
       "1746 2015-11-01  10276.878662   9327.394049  11173.324192  13225.92 2015-07-05\n",
       "1858 2016-02-21  11390.041249  10478.744351  12311.115279  14297.77 2015-07-05\n",
       "1865 2016-02-28  11282.881927  10302.291517  12172.707781  14273.36 2015-07-05\n",
       "1907 2016-04-10  11263.648841  10262.755401  12163.683991  14069.50 2015-07-05\n",
       "1921 2016-04-24  11216.693818  10293.301700  12172.253054  14570.54 2015-07-05\n",
       "1935 2016-05-08  14633.107065  13685.034500  15544.204020  18472.49 2015-07-05\n",
       "1960 2016-06-03   6823.247706   5867.146218   7780.356250  10094.26 2015-07-05\n",
       "2105 2016-04-24  11597.749665  10701.956363  12571.973880  14570.54 2016-01-01\n",
       "2119 2016-05-08  14873.639665  13867.993724  15853.075953  18472.49 2016-01-01\n",
       "2144 2016-06-03   7091.951686   6061.355082   8026.629246  10094.26 2016-01-01\n",
       "2223 2016-08-21  11661.709958  10705.150378  12579.128691  14622.66 2016-01-01\n",
       "2284 2016-10-22   7810.519636   6895.395138   8738.911565  11190.33 2016-01-01"
      ]
     },
     "execution_count": 22,
     "metadata": {},
     "output_type": "execute_result"
    }
   ],
   "source": [
    "upper_outliers"
   ]
  },
  {
   "cell_type": "code",
   "execution_count": 23,
   "metadata": {
    "ExecuteTime": {
     "end_time": "2019-01-06T01:36:20.232448Z",
     "start_time": "2019-01-06T01:36:20.218579Z"
    },
    "scrolled": false
   },
   "outputs": [
    {
     "data": {
      "text/html": [
       "<div>\n",
       "<style scoped>\n",
       "    .dataframe tbody tr th:only-of-type {\n",
       "        vertical-align: middle;\n",
       "    }\n",
       "\n",
       "    .dataframe tbody tr th {\n",
       "        vertical-align: top;\n",
       "    }\n",
       "\n",
       "    .dataframe thead th {\n",
       "        text-align: right;\n",
       "    }\n",
       "</style>\n",
       "<table border=\"1\" class=\"dataframe\">\n",
       "  <thead>\n",
       "    <tr style=\"text-align: right;\">\n",
       "      <th></th>\n",
       "      <th>ds</th>\n",
       "      <th>yhat</th>\n",
       "      <th>yhat_lower</th>\n",
       "      <th>yhat_upper</th>\n",
       "      <th>y</th>\n",
       "      <th>cutoff</th>\n",
       "    </tr>\n",
       "  </thead>\n",
       "  <tbody>\n",
       "    <tr>\n",
       "      <th>107</th>\n",
       "      <td>2013-05-04</td>\n",
       "      <td>6227.817785</td>\n",
       "      <td>5402.158274</td>\n",
       "      <td>7003.731043</td>\n",
       "      <td>2997.99</td>\n",
       "      <td>2013-01-16</td>\n",
       "    </tr>\n",
       "    <tr>\n",
       "      <th>591</th>\n",
       "      <td>2014-03-01</td>\n",
       "      <td>6465.562788</td>\n",
       "      <td>5550.763112</td>\n",
       "      <td>7335.109503</td>\n",
       "      <td>3212.49</td>\n",
       "      <td>2013-07-15</td>\n",
       "    </tr>\n",
       "    <tr>\n",
       "      <th>776</th>\n",
       "      <td>2014-03-01</td>\n",
       "      <td>6246.952226</td>\n",
       "      <td>5408.818729</td>\n",
       "      <td>7085.184288</td>\n",
       "      <td>3212.49</td>\n",
       "      <td>2014-01-11</td>\n",
       "    </tr>\n",
       "    <tr>\n",
       "      <th>1295</th>\n",
       "      <td>2015-05-10</td>\n",
       "      <td>19489.495374</td>\n",
       "      <td>18572.934571</td>\n",
       "      <td>20431.835766</td>\n",
       "      <td>15530.50</td>\n",
       "      <td>2014-07-10</td>\n",
       "    </tr>\n",
       "    <tr>\n",
       "      <th>1394</th>\n",
       "      <td>2015-05-10</td>\n",
       "      <td>20729.115042</td>\n",
       "      <td>19873.616366</td>\n",
       "      <td>21605.005441</td>\n",
       "      <td>15530.50</td>\n",
       "      <td>2015-01-06</td>\n",
       "    </tr>\n",
       "    <tr>\n",
       "      <th>1407</th>\n",
       "      <td>2015-05-23</td>\n",
       "      <td>7460.606160</td>\n",
       "      <td>6501.419422</td>\n",
       "      <td>8316.784374</td>\n",
       "      <td>3625.27</td>\n",
       "      <td>2015-01-06</td>\n",
       "    </tr>\n",
       "    <tr>\n",
       "      <th>2347</th>\n",
       "      <td>2016-12-24</td>\n",
       "      <td>6600.184905</td>\n",
       "      <td>5657.085145</td>\n",
       "      <td>7540.989799</td>\n",
       "      <td>2745.47</td>\n",
       "      <td>2016-01-01</td>\n",
       "    </tr>\n",
       "    <tr>\n",
       "      <th>2348</th>\n",
       "      <td>2016-12-25</td>\n",
       "      <td>10292.316730</td>\n",
       "      <td>9347.033397</td>\n",
       "      <td>11273.680558</td>\n",
       "      <td>5772.94</td>\n",
       "      <td>2016-01-01</td>\n",
       "    </tr>\n",
       "  </tbody>\n",
       "</table>\n",
       "</div>"
      ],
      "text/plain": [
       "             ds          yhat    yhat_lower    yhat_upper         y     cutoff\n",
       "107  2013-05-04   6227.817785   5402.158274   7003.731043   2997.99 2013-01-16\n",
       "591  2014-03-01   6465.562788   5550.763112   7335.109503   3212.49 2013-07-15\n",
       "776  2014-03-01   6246.952226   5408.818729   7085.184288   3212.49 2014-01-11\n",
       "1295 2015-05-10  19489.495374  18572.934571  20431.835766  15530.50 2014-07-10\n",
       "1394 2015-05-10  20729.115042  19873.616366  21605.005441  15530.50 2015-01-06\n",
       "1407 2015-05-23   7460.606160   6501.419422   8316.784374   3625.27 2015-01-06\n",
       "2347 2016-12-24   6600.184905   5657.085145   7540.989799   2745.47 2016-01-01\n",
       "2348 2016-12-25  10292.316730   9347.033397  11273.680558   5772.94 2016-01-01"
      ]
     },
     "execution_count": 23,
     "metadata": {},
     "output_type": "execute_result"
    }
   ],
   "source": [
    "lower_outliers"
   ]
  },
  {
   "cell_type": "markdown",
   "metadata": {},
   "source": [
    "It seems that having both US and Mexican mother's days link up equates to an additive regression that is essentially the capacity for the restaurant. The day was apparently booked by a line from beginning to end.\n",
    "\n",
    "No notable dates are recurring year after year, so I'm going to wipe out the values."
   ]
  },
  {
   "cell_type": "markdown",
   "metadata": {},
   "source": [
    "#### Tuning"
   ]
  },
  {
   "cell_type": "markdown",
   "metadata": {},
   "source": [
    "Let's see what happens when we adjust the parameters such as the prediction interval width and the changepoints."
   ]
  },
  {
   "cell_type": "code",
   "execution_count": 104,
   "metadata": {
    "ExecuteTime": {
     "end_time": "2019-01-09T04:04:06.006592Z",
     "start_time": "2019-01-09T04:04:06.001191Z"
    }
   },
   "outputs": [
    {
     "data": {
      "text/plain": [
       "18472.49"
      ]
     },
     "execution_count": 104,
     "metadata": {},
     "output_type": "execute_result"
    }
   ],
   "source": [
    "max(fbdf['y'])"
   ]
  },
  {
   "cell_type": "code",
   "execution_count": 95,
   "metadata": {
    "ExecuteTime": {
     "end_time": "2019-01-09T03:41:00.758762Z",
     "start_time": "2019-01-09T03:40:11.989916Z"
    },
    "scrolled": true
   },
   "outputs": [
    {
     "name": "stderr",
     "output_type": "stream",
     "text": [
      "INFO:fbprophet:Disabling daily seasonality. Run prophet with daily_seasonality=True to override this.\n",
      "INFO:fbprophet:Making 7 forecasts with cutoffs between 2013-01-16 00:00:00 and 2016-01-01 00:00:00\n"
     ]
    },
    {
     "data": {
      "text/html": [
       "<div>\n",
       "<style scoped>\n",
       "    .dataframe tbody tr th:only-of-type {\n",
       "        vertical-align: middle;\n",
       "    }\n",
       "\n",
       "    .dataframe tbody tr th {\n",
       "        vertical-align: top;\n",
       "    }\n",
       "\n",
       "    .dataframe thead th {\n",
       "        text-align: right;\n",
       "    }\n",
       "</style>\n",
       "<table border=\"1\" class=\"dataframe\">\n",
       "  <thead>\n",
       "    <tr style=\"text-align: right;\">\n",
       "      <th></th>\n",
       "      <th>horizon</th>\n",
       "      <th>mse</th>\n",
       "      <th>rmse</th>\n",
       "      <th>mae</th>\n",
       "      <th>mape</th>\n",
       "      <th>coverage</th>\n",
       "    </tr>\n",
       "  </thead>\n",
       "  <tbody>\n",
       "    <tr>\n",
       "      <th>1121</th>\n",
       "      <td>40 days</td>\n",
       "      <td>548347.427667</td>\n",
       "      <td>740.504846</td>\n",
       "      <td>555.225954</td>\n",
       "      <td>0.113600</td>\n",
       "      <td>0.902128</td>\n",
       "    </tr>\n",
       "    <tr>\n",
       "      <th>2031</th>\n",
       "      <td>40 days</td>\n",
       "      <td>555577.150585</td>\n",
       "      <td>745.370479</td>\n",
       "      <td>560.094536</td>\n",
       "      <td>0.114692</td>\n",
       "      <td>0.902128</td>\n",
       "    </tr>\n",
       "    <tr>\n",
       "      <th>403</th>\n",
       "      <td>40 days</td>\n",
       "      <td>556932.518836</td>\n",
       "      <td>746.279116</td>\n",
       "      <td>561.516902</td>\n",
       "      <td>0.114943</td>\n",
       "      <td>0.902128</td>\n",
       "    </tr>\n",
       "    <tr>\n",
       "      <th>767</th>\n",
       "      <td>40 days</td>\n",
       "      <td>558280.929758</td>\n",
       "      <td>747.181992</td>\n",
       "      <td>563.261821</td>\n",
       "      <td>0.115469</td>\n",
       "      <td>0.902128</td>\n",
       "    </tr>\n",
       "    <tr>\n",
       "      <th>1670</th>\n",
       "      <td>40 days</td>\n",
       "      <td>558391.908382</td>\n",
       "      <td>747.256253</td>\n",
       "      <td>563.472722</td>\n",
       "      <td>0.115455</td>\n",
       "      <td>0.902128</td>\n",
       "    </tr>\n",
       "  </tbody>\n",
       "</table>\n",
       "</div>"
      ],
      "text/plain": [
       "     horizon            mse        rmse         mae      mape  coverage\n",
       "1121 40 days  548347.427667  740.504846  555.225954  0.113600  0.902128\n",
       "2031 40 days  555577.150585  745.370479  560.094536  0.114692  0.902128\n",
       "403  40 days  556932.518836  746.279116  561.516902  0.114943  0.902128\n",
       "767  40 days  558280.929758  747.181992  563.261821  0.115469  0.902128\n",
       "1670 40 days  558391.908382  747.256253  563.472722  0.115455  0.902128"
      ]
     },
     "execution_count": 95,
     "metadata": {},
     "output_type": "execute_result"
    }
   ],
   "source": [
    "m = Prophet(interval_width = .95, changepoint_prior_scale=0.7, holidays = holidays)#, interval.width = 0.95, mcmc.samples = 300) # default is .05. \n",
    "#Increase trend flexibility if underfitting. Will also increase uncertainty\n",
    "#Can also adjust confidence level, normally .80\n",
    "#mcmc replaces map estimation with mcmc sampling to get full bayesian sampling on seasonality\n",
    "m.fit(fbdf)\n",
    "forecast = m.predict(fbdf)\n",
    "df_cv = cross_validation(m, initial='730 days', period='180 days', horizon = '365 days')\n",
    "df_p = performance_metrics(df_cv)\n",
    "df_p.head()"
   ]
  },
  {
   "cell_type": "code",
   "execution_count": 96,
   "metadata": {
    "ExecuteTime": {
     "end_time": "2019-01-09T03:41:03.128692Z",
     "start_time": "2019-01-09T03:41:01.076998Z"
    },
    "scrolled": false
   },
   "outputs": [
    {
     "data": {
      "image/png": "[encoded data removed]",
      "text/plain": [
       "<Figure size 648x864 with 4 Axes>"
      ]
     },
     "metadata": {},
     "output_type": "display_data"
    }
   ],
   "source": [
    "fig1 = m.plot_components(forecast)"
   ]
  },
  {
   "cell_type": "markdown",
   "metadata": {},
   "source": [
    "The graph seems much more unstable, especially the trend. Will likely return to prior interval_width"
   ]
  },
  {
   "cell_type": "markdown",
   "metadata": {},
   "source": [
    "## Weather Regression"
   ]
  },
  {
   "cell_type": "markdown",
   "metadata": {},
   "source": [
    "I used a Beautiful Soup earlier to scrape some data on the weather near the restaurant between 2011 and 2017 since no easy, free api was available. I'm going to port it over and add it as a regressive variable to see the effect that the rain might have had on sales, because it rarely happens in San Diego.\n",
    "\n",
    "First I'm gonna see if I need to clean the data up a little"
   ]
  },
  {
   "cell_type": "code",
   "execution_count": 111,
   "metadata": {
    "ExecuteTime": {
     "end_time": "2019-01-09T04:09:44.138063Z",
     "start_time": "2019-01-09T04:09:43.921582Z"
    }
   },
   "outputs": [],
   "source": [
    "fbdf_with_weather = fbdf.copy()\n",
    "weather = pd.read_csv(\"WeatherData\")\n",
    "weather = weather.drop(\"Unnamed: 0\", axis = 1)\n",
    "\n",
    "fbdf_with_weather['ds'] = pd.to_datetime(fbdf_with_weather['ds'])\n",
    "weather['Date'] = pd.to_datetime(weather['Date'])"
   ]
  },
  {
   "cell_type": "code",
   "execution_count": 112,
   "metadata": {
    "ExecuteTime": {
     "end_time": "2019-01-09T04:10:13.304175Z",
     "start_time": "2019-01-09T04:10:13.287336Z"
    }
   },
   "outputs": [
    {
     "data": {
      "text/html": [
       "<div>\n",
       "<style scoped>\n",
       "    .dataframe tbody tr th:only-of-type {\n",
       "        vertical-align: middle;\n",
       "    }\n",
       "\n",
       "    .dataframe tbody tr th {\n",
       "        vertical-align: top;\n",
       "    }\n",
       "\n",
       "    .dataframe thead th {\n",
       "        text-align: right;\n",
       "    }\n",
       "</style>\n",
       "<table border=\"1\" class=\"dataframe\">\n",
       "  <thead>\n",
       "    <tr style=\"text-align: right;\">\n",
       "      <th></th>\n",
       "      <th>ds</th>\n",
       "      <th>y</th>\n",
       "      <th>Date</th>\n",
       "      <th>MaxTemp</th>\n",
       "      <th>MinTemp</th>\n",
       "      <th>Precipitation</th>\n",
       "    </tr>\n",
       "  </thead>\n",
       "  <tbody>\n",
       "    <tr>\n",
       "      <th>424</th>\n",
       "      <td>2012-02-29</td>\n",
       "      <td>2916.12</td>\n",
       "      <td>NaT</td>\n",
       "      <td>NaN</td>\n",
       "      <td>NaN</td>\n",
       "      <td>NaN</td>\n",
       "    </tr>\n",
       "    <tr>\n",
       "      <th>1885</th>\n",
       "      <td>2016-02-29</td>\n",
       "      <td>4549.76</td>\n",
       "      <td>NaT</td>\n",
       "      <td>NaN</td>\n",
       "      <td>NaN</td>\n",
       "      <td>NaN</td>\n",
       "    </tr>\n",
       "  </tbody>\n",
       "</table>\n",
       "</div>"
      ],
      "text/plain": [
       "             ds        y Date  MaxTemp  MinTemp  Precipitation\n",
       "424  2012-02-29  2916.12  NaT      NaN      NaN            NaN\n",
       "1885 2016-02-29  4549.76  NaT      NaN      NaN            NaN"
      ]
     },
     "execution_count": 112,
     "metadata": {},
     "output_type": "execute_result"
    }
   ],
   "source": [
    "compared = pd.merge(fbdf_with_weather, weather, left_on='ds', \n",
    "                    right_on='Date', how='outer')\n",
    "compared.loc[compared.Date.isnull() == True]"
   ]
  },
  {
   "cell_type": "markdown",
   "metadata": {},
   "source": [
    "No weather data for leap year. Gonna wipe those two dates for calculation"
   ]
  },
  {
   "cell_type": "code",
   "execution_count": 113,
   "metadata": {
    "ExecuteTime": {
     "end_time": "2019-01-09T04:10:14.890193Z",
     "start_time": "2019-01-09T04:10:14.883404Z"
    }
   },
   "outputs": [],
   "source": [
    "fbdf_with_weather.drop(labels = [424, 1885], axis = 0, inplace = True)\n",
    "fbdf_with_weather = fbdf_with_weather.reset_index(drop=True)"
   ]
  },
  {
   "cell_type": "code",
   "execution_count": 114,
   "metadata": {
    "ExecuteTime": {
     "end_time": "2019-01-09T04:10:18.451511Z",
     "start_time": "2019-01-09T04:10:18.442473Z"
    },
    "scrolled": false
   },
   "outputs": [
    {
     "data": {
      "text/html": [
       "<div>\n",
       "<style scoped>\n",
       "    .dataframe tbody tr th:only-of-type {\n",
       "        vertical-align: middle;\n",
       "    }\n",
       "\n",
       "    .dataframe tbody tr th {\n",
       "        vertical-align: top;\n",
       "    }\n",
       "\n",
       "    .dataframe thead th {\n",
       "        text-align: right;\n",
       "    }\n",
       "</style>\n",
       "<table border=\"1\" class=\"dataframe\">\n",
       "  <thead>\n",
       "    <tr style=\"text-align: right;\">\n",
       "      <th></th>\n",
       "      <th>ds</th>\n",
       "      <th>y</th>\n",
       "    </tr>\n",
       "  </thead>\n",
       "  <tbody>\n",
       "    <tr>\n",
       "      <th>2185</th>\n",
       "      <td>2016-12-27</td>\n",
       "      <td>5553.29</td>\n",
       "    </tr>\n",
       "    <tr>\n",
       "      <th>2186</th>\n",
       "      <td>2016-12-28</td>\n",
       "      <td>6604.82</td>\n",
       "    </tr>\n",
       "    <tr>\n",
       "      <th>2187</th>\n",
       "      <td>2016-12-29</td>\n",
       "      <td>6813.19</td>\n",
       "    </tr>\n",
       "    <tr>\n",
       "      <th>2188</th>\n",
       "      <td>2016-12-30</td>\n",
       "      <td>5577.16</td>\n",
       "    </tr>\n",
       "    <tr>\n",
       "      <th>2189</th>\n",
       "      <td>2016-12-31</td>\n",
       "      <td>4636.06</td>\n",
       "    </tr>\n",
       "  </tbody>\n",
       "</table>\n",
       "</div>"
      ],
      "text/plain": [
       "             ds        y\n",
       "2185 2016-12-27  5553.29\n",
       "2186 2016-12-28  6604.82\n",
       "2187 2016-12-29  6813.19\n",
       "2188 2016-12-30  5577.16\n",
       "2189 2016-12-31  4636.06"
      ]
     },
     "execution_count": 114,
     "metadata": {},
     "output_type": "execute_result"
    }
   ],
   "source": [
    "fbdf_with_weather.tail()"
   ]
  },
  {
   "cell_type": "markdown",
   "metadata": {},
   "source": [
    "Now I'm gonna include inches of rain as a regressor variable when calculating sales to determine it's effect"
   ]
  },
  {
   "cell_type": "code",
   "execution_count": 117,
   "metadata": {
    "ExecuteTime": {
     "end_time": "2019-01-09T04:16:02.619563Z",
     "start_time": "2019-01-09T04:15:22.192563Z"
    }
   },
   "outputs": [
    {
     "name": "stderr",
     "output_type": "stream",
     "text": [
      "INFO:fbprophet:Disabling daily seasonality. Run prophet with daily_seasonality=True to override this.\n",
      "INFO:fbprophet:Making 7 forecasts with cutoffs between 2013-01-16 00:00:00 and 2016-01-01 00:00:00\n"
     ]
    },
    {
     "data": {
      "text/html": [
       "<div>\n",
       "<style scoped>\n",
       "    .dataframe tbody tr th:only-of-type {\n",
       "        vertical-align: middle;\n",
       "    }\n",
       "\n",
       "    .dataframe tbody tr th {\n",
       "        vertical-align: top;\n",
       "    }\n",
       "\n",
       "    .dataframe thead th {\n",
       "        text-align: right;\n",
       "    }\n",
       "</style>\n",
       "<table border=\"1\" class=\"dataframe\">\n",
       "  <thead>\n",
       "    <tr style=\"text-align: right;\">\n",
       "      <th></th>\n",
       "      <th>horizon</th>\n",
       "      <th>mse</th>\n",
       "      <th>rmse</th>\n",
       "      <th>mae</th>\n",
       "      <th>mape</th>\n",
       "      <th>coverage</th>\n",
       "    </tr>\n",
       "  </thead>\n",
       "  <tbody>\n",
       "    <tr>\n",
       "      <th>1670</th>\n",
       "      <td>40 days</td>\n",
       "      <td>560740.103301</td>\n",
       "      <td>748.825816</td>\n",
       "      <td>562.759219</td>\n",
       "      <td>0.114363</td>\n",
       "      <td>0.770213</td>\n",
       "    </tr>\n",
       "    <tr>\n",
       "      <th>2030</th>\n",
       "      <td>40 days</td>\n",
       "      <td>569111.303276</td>\n",
       "      <td>754.394660</td>\n",
       "      <td>568.219995</td>\n",
       "      <td>0.115617</td>\n",
       "      <td>0.765957</td>\n",
       "    </tr>\n",
       "    <tr>\n",
       "      <th>403</th>\n",
       "      <td>40 days</td>\n",
       "      <td>571323.825527</td>\n",
       "      <td>755.859660</td>\n",
       "      <td>570.739409</td>\n",
       "      <td>0.116101</td>\n",
       "      <td>0.765957</td>\n",
       "    </tr>\n",
       "    <tr>\n",
       "      <th>1121</th>\n",
       "      <td>40 days</td>\n",
       "      <td>572165.222133</td>\n",
       "      <td>756.416038</td>\n",
       "      <td>571.883358</td>\n",
       "      <td>0.116597</td>\n",
       "      <td>0.765957</td>\n",
       "    </tr>\n",
       "    <tr>\n",
       "      <th>39</th>\n",
       "      <td>40 days</td>\n",
       "      <td>579044.245526</td>\n",
       "      <td>760.949568</td>\n",
       "      <td>576.848809</td>\n",
       "      <td>0.118484</td>\n",
       "      <td>0.761702</td>\n",
       "    </tr>\n",
       "  </tbody>\n",
       "</table>\n",
       "</div>"
      ],
      "text/plain": [
       "     horizon            mse        rmse         mae      mape  coverage\n",
       "1670 40 days  560740.103301  748.825816  562.759219  0.114363  0.770213\n",
       "2030 40 days  569111.303276  754.394660  568.219995  0.115617  0.765957\n",
       "403  40 days  571323.825527  755.859660  570.739409  0.116101  0.765957\n",
       "1121 40 days  572165.222133  756.416038  571.883358  0.116597  0.765957\n",
       "39   40 days  579044.245526  760.949568  576.848809  0.118484  0.761702"
      ]
     },
     "execution_count": 117,
     "metadata": {},
     "output_type": "execute_result"
    }
   ],
   "source": [
    "fbdf_with_weather['Precipitation'] = weather.Precipitation\n",
    "m = Prophet(holidays = holidays)#, interval.width = 0.95, mcmc.samples = 300) # default is .05. \n",
    "m.add_regressor('Precipitation')\n",
    "m.fit(fbdf_with_weather)\n",
    "\n",
    "forecast = m.predict(fbdf_with_weather)\n",
    "df_cv = cross_validation(m, initial='730 days', period='180 days', horizon = '365 days')\n",
    "df_p = performance_metrics(df_cv)\n",
    "df_p.head()"
   ]
  },
  {
   "cell_type": "code",
   "execution_count": 118,
   "metadata": {
    "ExecuteTime": {
     "end_time": "2019-01-09T04:16:06.233119Z",
     "start_time": "2019-01-09T04:16:02.961959Z"
    },
    "scrolled": true
   },
   "outputs": [
    {
     "data": {
      "image/png": "[encoded data removed]",
      "text/plain": [
       "<Figure size 648x1080 with 5 Axes>"
      ]
     },
     "metadata": {},
     "output_type": "display_data"
    }
   ],
   "source": [
    "fig3 = m.plot_components(forecast)"
   ]
  },
  {
   "cell_type": "code",
   "execution_count": 121,
   "metadata": {
    "ExecuteTime": {
     "end_time": "2019-01-09T04:18:33.561000Z",
     "start_time": "2019-01-09T04:18:33.554734Z"
    }
   },
   "outputs": [
    {
     "data": {
      "text/plain": [
       "-513.0927527342222"
      ]
     },
     "execution_count": 121,
     "metadata": {},
     "output_type": "execute_result"
    }
   ],
   "source": [
    "min(forecast['extra_regressors_additive'])/max(weather['Precipitation'])"
   ]
  },
  {
   "cell_type": "markdown",
   "metadata": {},
   "source": [
    "## Conclusions"
   ]
  },
  {
   "cell_type": "markdown",
   "metadata": {},
   "source": [
    "We can predict sales with a reasonable 11% mean absolute percentage error\n",
    "\n",
    "Superbowl sunday has a much more sizeable effect than originally thought. One way to gain customers back is to put the game on a tv and offer superbowl-like food for the day. At a measureable cost of 2000$\\$$ + a year, a new tv would only be a one-time cost of 500$\\$$ and food would not be much more expensive.\n",
    "\n",
    "By exploring the outliers, I was also able to find that Mexican Mother's day has an even larger effect than mother's day in the US. The restaurant is in a predominatly Hispanic area, thus would do well to meet the needs of the holiday/change to holiday pricing.\n",
    "\n",
    "Credit use is increasing over time, but not much else can be predicted off of it.\n",
    "\n",
    "The each inch of rain essentially cuts 500$\\$$ off sales"
   ]
  }
 ],
 "metadata": {
  "kernelspec": {
   "display_name": "Python 3",
   "language": "python",
   "name": "python3"
  },
  "language_info": {
   "codemirror_mode": {
    "name": "ipython",
    "version": 3
   },
   "file_extension": ".py",
   "mimetype": "text/x-python",
   "name": "python",
   "nbconvert_exporter": "python",
   "pygments_lexer": "ipython3",
   "version": "3.6.6"
  },
  "varInspector": {
   "cols": {
    "lenName": 16,
    "lenType": 16,
    "lenVar": 40
   },
   "kernels_config": {
    "python": {
     "delete_cmd_postfix": "",
     "delete_cmd_prefix": "del ",
     "library": "var_list.py",
     "varRefreshCmd": "print(var_dic_list())"
    },
    "r": {
     "delete_cmd_postfix": ") ",
     "delete_cmd_prefix": "rm(",
     "library": "var_list.r",
     "varRefreshCmd": "cat(var_dic_list()) "
    }
   },
   "types_to_exclude": [
    "module",
    "function",
    "builtin_function_or_method",
    "instance",
    "_Feature"
   ],
   "window_display": false
  }
 },
 "nbformat": 4,
 "nbformat_minor": 2
}
